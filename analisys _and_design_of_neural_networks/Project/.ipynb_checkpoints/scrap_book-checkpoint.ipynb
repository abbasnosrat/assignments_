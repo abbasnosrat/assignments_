{
 "cells": [
  {
   "cell_type": "code",
   "execution_count": 1,
   "id": "7299e265",
   "metadata": {},
   "outputs": [],
   "source": [
    "import torch\n",
    "import torch.nn as nn\n",
    "import numpy as np\n",
    "import matplotlib.pyplot as plt\n",
    "import torchvision.datasets as datasets\n",
    "import torchvision.transforms as transforms\n",
    "from torchmetrics import Accuracy\n",
    "from torch.utils.data import Dataset, DataLoader\n",
    "from tqdm.auto import trange, tqdm\n",
    "import os"
   ]
  },
  {
   "cell_type": "code",
   "execution_count": 2,
   "id": "b0271f7c",
   "metadata": {},
   "outputs": [],
   "source": [
    "ds = datasets.CIFAR10(\"\",download=False)\n",
    "m=((ds.data/255).mean((0,1,2)))\n",
    "s = ((ds.data/255).std((0,1,2)))\n",
    "transform = transforms.Compose([transforms.ToTensor(),\n",
    "                                transforms.Normalize(m,s)])\n",
    "train_set = datasets.CIFAR10(\".\",download=False,\n",
    "                             transform=transform,target_transform=torch.tensor)\n",
    "val_set = datasets.CIFAR10(\".\",download=False,transform=transform,\n",
    "                           train=False,target_transform=torch.tensor)\n",
    "train_loader = DataLoader(train_set,batch_size=128,shuffle=True)\n",
    "val_loader = DataLoader(val_set,batch_size=128,shuffle=False)"
   ]
  },
  {
   "cell_type": "code",
   "execution_count": 3,
   "id": "cc642ac7",
   "metadata": {},
   "outputs": [],
   "source": [
    "class SimpleAE(nn.Module):\n",
    "    def __init__(self):\n",
    "        super(SimpleAE, self).__init__()\n",
    "        self.encoder = nn.Sequential(\n",
    "                                    nn.Conv2d(3,64, (3, 3), padding=(1, 1)),\n",
    "                                    nn.ReLU(),\n",
    "                                    nn.BatchNorm2d(64),\n",
    "                                    nn.Conv2d(64,64, (3, 3), padding=(1, 1)),\n",
    "                                    \n",
    "   )\n",
    "        self.decoder = nn.Sequential(nn.ConvTranspose2d(64,64,(3,3),padding=(1,1))\n",
    "                                    ,nn.ReLU(),\n",
    "                                    nn.BatchNorm2d(64),\n",
    "                                     nn.ConvTranspose2d(64,3, (3, 3), padding=(1, 1)))\n",
    "    def forward(self,X):\n",
    "        return self.decoder(self.encoder(X))\n",
    "    "
   ]
  },
  {
   "cell_type": "code",
   "execution_count": 4,
   "id": "dba60a2f",
   "metadata": {},
   "outputs": [
    {
     "name": "stdout",
     "output_type": "stream",
     "text": [
      "Adjusting learning rate of group 0 to 1.0000e-03.\n"
     ]
    }
   ],
   "source": [
    "model = SimpleAE()\n",
    "model = model.cuda()\n",
    "loss_fn = nn.MSELoss()\n",
    "optimizer = torch.optim.AdamW(model.parameters(),1e-3)\n",
    "scheduler = torch.optim.lr_scheduler.ExponentialLR(optimizer, gamma=0.9,verbose=True)\n",
    "train_loss = []\n",
    "val_loss = []\n",
    "epochs = 50"
   ]
  },
  {
   "cell_type": "code",
   "execution_count": 5,
   "id": "dc569ac0",
   "metadata": {},
   "outputs": [],
   "source": [
    "if not os.path.isfile(\"model.pt\"):\n",
    "    outer_loop = trange(epochs)\n",
    "    for epoch in outer_loop:\n",
    "        r_loss = 0\n",
    "        for X,y in tqdm(train_loader,leave = False):\n",
    "            X = X.cuda()\n",
    "            out = model(X)\n",
    "            optimizer.zero_grad()\n",
    "            loss = loss_fn(out,X)\n",
    "            loss.backward()\n",
    "            optimizer.step()\n",
    "            r_loss += loss.item()\n",
    "        train_loss.append(r_loss/len(train_loader))\n",
    "        with torch.no_grad():\n",
    "            r_loss = 0\n",
    "            for X,y in tqdm(val_loader,leave = False):\n",
    "                X = X.cuda()\n",
    "                out = model(X)\n",
    "                loss = loss_fn(out,X)\n",
    "                r_loss += loss.item()\n",
    "        val_loss.append(r_loss/len(val_loader))\n",
    "        scheduler.step()\n",
    "        outer_loop.set_postfix({\"train loss\":train_loss[-1],\n",
    "                               \"val loss\":val_loss[-1]})\n",
    "    plt.plot(train_loss)\n",
    "    plt.plot(val_loss)\n",
    "    torch.save(model.state_dict(),\"model.pt\")\n",
    "else:\n",
    "    model.load_state_dict(torch.load(\"model.pt\"))"
   ]
  },
  {
   "cell_type": "code",
   "execution_count": 6,
   "id": "c53bf293",
   "metadata": {},
   "outputs": [
    {
     "data": {
      "application/vnd.jupyter.widget-view+json": {
       "model_id": "e1fde526ac98466ead62caf838cdf0f1",
       "version_major": 2,
       "version_minor": 0
      },
      "text/plain": [
       "  0%|          | 0/79 [00:00<?, ?it/s]"
      ]
     },
     "metadata": {},
     "output_type": "display_data"
    }
   ],
   "source": [
    "with torch.no_grad():\n",
    "    outs = torch.zeros((10000,1600),device=\"cuda\")\n",
    "    ys = torch.zeros(10000,device=\"cuda\")\n",
    "    for i,(X,y) in tqdm(enumerate(val_loader),total = len(val_loader)):\n",
    "        out = model.encoder(X.cuda())\n",
    "        out = nn.functional.max_pool2d(out,(10,10),(5,5),padding = 0)\n",
    "        out = torch.flatten(out,start_dim=1)\n",
    "        outs[128*i:128*(i+1),:]=out\n",
    "        ys[128*i:128*(i+1)] = y"
   ]
  },
  {
   "cell_type": "code",
   "execution_count": 7,
   "id": "fc4aba1f",
   "metadata": {},
   "outputs": [],
   "source": [
    "def SI_evaluation(outs,ys):\n",
    "    with torch.no_grad():\n",
    "        assert ys.get_device() != -1\n",
    "        assert outs.get_device() != -1\n",
    "        ys = ys\n",
    "        m = outs @outs.T\n",
    "        d = torch.diag(m)\n",
    "        d = d.reshape(-1,1)\n",
    "        w = torch.tile(d,(1,outs.shape[0]))\n",
    "        D = w+w.T -2*m\n",
    "        inf = torch.max(D)*100\n",
    "        I = inf*torch.eye(D.shape[0]).cuda()\n",
    "        D = D+I\n",
    "        labs = torch.argmin(D,dim=1)\n",
    "        labs = labs.detach().cpu().numpy()\n",
    "        labs = ys[labs]\n",
    "        return (labs == ys).sum()/len(labs)"
   ]
  },
  {
   "cell_type": "code",
   "execution_count": 8,
   "id": "64b00c99",
   "metadata": {},
   "outputs": [],
   "source": [
    "# SI_evaluation(outs,ys)"
   ]
  },
  {
   "cell_type": "code",
   "execution_count": 9,
   "id": "6626c1db",
   "metadata": {},
   "outputs": [],
   "source": [
    "def forward_selection(X,y):\n",
    "    \n",
    "    selected = []\n",
    "    best_SIs = []\n",
    "    done = False\n",
    "    prv_SI = 0\n",
    "    while not done:\n",
    "        SI_list = []\n",
    "        idx_list = []\n",
    "        for i in trange(X.shape[1],leave=False):\n",
    "            idx = selected.copy()\n",
    "            if not i in idx:\n",
    "                idx.append(i)\n",
    "                features = X[:,idx]\n",
    "                SI = SI_evaluation(features,y)\n",
    "                SI_list.append(SI.item())\n",
    "                idx_list.append(i)\n",
    "        \n",
    "        best_idx = np.argmax(SI_list)\n",
    "        best_SI = SI_list[best_idx]\n",
    "        best_feature = idx_list[best_idx]\n",
    "        print(f\"best SI:{best_SI} for {best_feature}\")\n",
    "        if best_SI<= prv_SI:\n",
    "            print(\"best features obtaied\")\n",
    "            done = True\n",
    "        else:\n",
    "            selected.append(best_feature)\n",
    "            best_SIs.append(best_SI)\n",
    "            prv_SI = best_SI\n",
    "    return selected,best_SIs"
   ]
  },
  {
   "cell_type": "code",
   "execution_count": 10,
   "id": "d277e563",
   "metadata": {
    "scrolled": true
   },
   "outputs": [
    {
     "data": {
      "application/vnd.jupyter.widget-view+json": {
       "model_id": "e7e2bc8c441c45d7a90a297e671477d2",
       "version_major": 2,
       "version_minor": 0
      },
      "text/plain": [
       "  0%|          | 0/1600 [00:00<?, ?it/s]"
      ]
     },
     "metadata": {},
     "output_type": "display_data"
    },
    {
     "ename": "KeyboardInterrupt",
     "evalue": "",
     "output_type": "error",
     "traceback": [
      "\u001b[1;31m---------------------------------------------------------------------------\u001b[0m",
      "\u001b[1;31mKeyboardInterrupt\u001b[0m                         Traceback (most recent call last)",
      "Input \u001b[1;32mIn [10]\u001b[0m, in \u001b[0;36m<cell line: 1>\u001b[1;34m()\u001b[0m\n\u001b[1;32m----> 1\u001b[0m selected,best_SIs \u001b[38;5;241m=\u001b[39m \u001b[43mforward_selection\u001b[49m\u001b[43m(\u001b[49m\u001b[43mouts\u001b[49m\u001b[43m,\u001b[49m\u001b[43mys\u001b[49m\u001b[43m)\u001b[49m\n",
      "Input \u001b[1;32mIn [9]\u001b[0m, in \u001b[0;36mforward_selection\u001b[1;34m(X, y)\u001b[0m\n\u001b[0;32m     13\u001b[0m idx\u001b[38;5;241m.\u001b[39mappend(i)\n\u001b[0;32m     14\u001b[0m features \u001b[38;5;241m=\u001b[39m X[:,idx]\n\u001b[1;32m---> 15\u001b[0m SI \u001b[38;5;241m=\u001b[39m \u001b[43mSI_evaluation\u001b[49m\u001b[43m(\u001b[49m\u001b[43mfeatures\u001b[49m\u001b[43m,\u001b[49m\u001b[43my\u001b[49m\u001b[43m)\u001b[49m\n\u001b[0;32m     16\u001b[0m SI_list\u001b[38;5;241m.\u001b[39mappend(SI\u001b[38;5;241m.\u001b[39mitem())\n\u001b[0;32m     17\u001b[0m idx_list\u001b[38;5;241m.\u001b[39mappend(i)\n",
      "Input \u001b[1;32mIn [7]\u001b[0m, in \u001b[0;36mSI_evaluation\u001b[1;34m(outs, ys)\u001b[0m\n\u001b[0;32m     10\u001b[0m D \u001b[38;5;241m=\u001b[39m w\u001b[38;5;241m+\u001b[39mw\u001b[38;5;241m.\u001b[39mT \u001b[38;5;241m-\u001b[39m\u001b[38;5;241m2\u001b[39m\u001b[38;5;241m*\u001b[39mm\n\u001b[0;32m     11\u001b[0m inf \u001b[38;5;241m=\u001b[39m torch\u001b[38;5;241m.\u001b[39mmax(D)\u001b[38;5;241m*\u001b[39m\u001b[38;5;241m100\u001b[39m\n\u001b[1;32m---> 12\u001b[0m I \u001b[38;5;241m=\u001b[39m inf\u001b[38;5;241m*\u001b[39m\u001b[43mtorch\u001b[49m\u001b[38;5;241;43m.\u001b[39;49m\u001b[43meye\u001b[49m\u001b[43m(\u001b[49m\u001b[43mD\u001b[49m\u001b[38;5;241;43m.\u001b[39;49m\u001b[43mshape\u001b[49m\u001b[43m[\u001b[49m\u001b[38;5;241;43m0\u001b[39;49m\u001b[43m]\u001b[49m\u001b[43m)\u001b[49m\u001b[38;5;241m.\u001b[39mcuda()\n\u001b[0;32m     13\u001b[0m D \u001b[38;5;241m=\u001b[39m D\u001b[38;5;241m+\u001b[39mI\n\u001b[0;32m     14\u001b[0m labs \u001b[38;5;241m=\u001b[39m torch\u001b[38;5;241m.\u001b[39margmin(D,dim\u001b[38;5;241m=\u001b[39m\u001b[38;5;241m1\u001b[39m)\n",
      "\u001b[1;31mKeyboardInterrupt\u001b[0m: "
     ]
    }
   ],
   "source": [
    "selected,best_SIs = forward_selection(outs,ys)"
   ]
  },
  {
   "cell_type": "code",
   "execution_count": null,
   "id": "e7f9de17",
   "metadata": {},
   "outputs": [],
   "source": [
    "plt.plot(best_SIs)\n",
    "plt.grid(\"on\")\n",
    "plt.xlabel(\"number of features\")\n",
    "plt.ylabel(\"SI\")\n",
    "plt.title(\"SI per selected features\")"
   ]
  },
  {
   "cell_type": "code",
   "execution_count": null,
   "id": "d4ee55ab",
   "metadata": {},
   "outputs": [],
   "source": [
    "ys.device == torch.device(\"cuda:0\")"
   ]
  },
  {
   "cell_type": "code",
   "execution_count": null,
   "id": "77accb50",
   "metadata": {},
   "outputs": [],
   "source": [
    "torch.device(\"cuda:1\")"
   ]
  },
  {
   "cell_type": "code",
   "execution_count": null,
   "id": "97abbd87",
   "metadata": {},
   "outputs": [],
   "source": [
    "ys.get_device()"
   ]
  },
  {
   "cell_type": "code",
   "execution_count": null,
   "id": "27a449b0",
   "metadata": {},
   "outputs": [],
   "source": [
    "a = torch.rand(10)"
   ]
  },
  {
   "cell_type": "code",
   "execution_count": null,
   "id": "0f92e2a3",
   "metadata": {},
   "outputs": [],
   "source": [
    "a.get_device()"
   ]
  },
  {
   "cell_type": "code",
   "execution_count": null,
   "id": "be692bda",
   "metadata": {},
   "outputs": [],
   "source": []
  }
 ],
 "metadata": {
  "kernelspec": {
   "display_name": "Python 3 (ipykernel)",
   "language": "python",
   "name": "python3"
  },
  "language_info": {
   "codemirror_mode": {
    "name": "ipython",
    "version": 3
   },
   "file_extension": ".py",
   "mimetype": "text/x-python",
   "name": "python",
   "nbconvert_exporter": "python",
   "pygments_lexer": "ipython3",
   "version": "3.9.12"
  }
 },
 "nbformat": 4,
 "nbformat_minor": 5
}
