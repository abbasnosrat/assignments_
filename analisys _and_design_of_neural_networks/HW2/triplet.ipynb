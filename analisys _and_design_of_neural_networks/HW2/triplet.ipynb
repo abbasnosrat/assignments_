{
 "cells": [
  {
   "cell_type": "code",
   "execution_count": 1,
   "id": "e4a14ae6",
   "metadata": {},
   "outputs": [],
   "source": [
    "# !pip install pytorch-metric-learning"
   ]
  },
  {
   "cell_type": "code",
   "execution_count": 2,
   "id": "13d2ec89",
   "metadata": {},
   "outputs": [],
   "source": [
    "import numpy as np\n",
    "import matplotlib.pyplot as plt\n",
    "import pandas as pd\n",
    "from tqdm.auto import tqdm, trange\n",
    "import torch\n",
    "import torch.nn as nn\n",
    "import torchvision\n",
    "from torch.utils.data import DataLoader, Dataset\n",
    "from pytorch_metric_learning import distances, losses, miners, reducers, testers\n",
    "from pytorch_metric_learning.utils.accuracy_calculator import AccuracyCalculator\n",
    "import torchvision.transforms as transform\n",
    "import pytorch_metric_learning as pml\n",
    "from umap import UMAP"
   ]
  },
  {
   "cell_type": "code",
   "execution_count": 3,
   "id": "31221914",
   "metadata": {},
   "outputs": [
    {
     "name": "stdout",
     "output_type": "stream",
     "text": [
      "Files already downloaded and verified\n",
      "Files already downloaded and verified\n"
     ]
    }
   ],
   "source": [
    "\n",
    "train_ds = torchvision.datasets.LFWPeople(root=\"./data\",split=\"train\",download=True,\n",
    "                                          transform=torchvision.transforms.ToTensor())\n",
    "val_ds = torchvision.datasets.LFWPeople(root=\"./data\",split=\"test\",download=True,\n",
    "                                        transform=torchvision.transforms.ToTensor())"
   ]
  },
  {
   "cell_type": "code",
   "execution_count": 4,
   "id": "759118dc",
   "metadata": {},
   "outputs": [],
   "source": [
    "class dataset(torch.utils.data.Dataset):\n",
    "    def __init__(self,original_data,classes_per_batch=30,samples_per_class=2):\n",
    "        self.targets = np.array(original_data.targets)\n",
    "        self.uniques = np.unique(self.targets)\n",
    "        self.original_data = original_data\n",
    "        self.classes_per_batch = classes_per_batch\n",
    "        self.samples_per_class = samples_per_class\n",
    "        ls=[]\n",
    "        for i in np.unique(self.targets):\n",
    "            ls.append(len(np.where(self.targets ==i)[0]))\n",
    "\n",
    "        ls = np.array(ls)\n",
    "        self.proper_classes = self.uniques[np.where(ls>=samples_per_class)[0]]\n",
    "        \n",
    "    def __len__(self):\n",
    "        return np.sum([bool(np.sum(np.equal(i,self.proper_classes))) for i in self.targets])\n",
    "    \n",
    "    def __getitem__(self,idx):\n",
    "        \n",
    "        chosen_cls=np.random.choice(self.proper_classes,self.classes_per_batch,replace=False)\n",
    "        chosen_samples = []\n",
    "        for cls in chosen_cls:\n",
    "            i = np.where(self.targets == cls)[0]\n",
    "            j=np.random.choice(i,self.samples_per_class)\n",
    "            chosen_samples.append(j)\n",
    "        chosen_samples=np.concatenate(chosen_samples)\n",
    "#         paths = [self.original_data.data[i] for i in chosen_samples]\n",
    "        X = torch.zeros([len(chosen_samples),3,250,250])\n",
    "        for i,path in enumerate(chosen_samples):\n",
    "            img = self.original_data[path][0]\n",
    "            X[i] = img\n",
    "        return X,torch.tensor(self.targets[chosen_samples])\n"
   ]
  },
  {
   "cell_type": "code",
   "execution_count": 5,
   "id": "e37bfcee",
   "metadata": {},
   "outputs": [],
   "source": [
    "train_set = dataset(train_ds)\n",
    "val_set = dataset(val_ds)"
   ]
  },
  {
   "cell_type": "code",
   "execution_count": 6,
   "id": "43c15ab3",
   "metadata": {},
   "outputs": [],
   "source": [
    "model = torchvision.models.resnet18(pretrained=True)\n",
    "\n",
    "model.fc = nn.Linear(512,128)\n",
    "model = model.to(\"cuda:0\")"
   ]
  },
  {
   "cell_type": "code",
   "execution_count": 7,
   "id": "073f21c2",
   "metadata": {},
   "outputs": [],
   "source": [
    "loss_fn = pml.losses.TripletMarginLoss().to(\"cuda:0\")\n",
    "optimizer = torch.optim.SGD(model.parameters(),1e-4)\n",
    "# batch_size = 16\n",
    "# train_loader = DataLoader(train_set,batch_size=batch_size,shuffle=True)\n",
    "# val_loader = DataLoader(val_set,batch_size=batch_size,shuffle=False)\n",
    "miner_ = pml.miners.BatchEasyHardMiner( pos_strategy='hard')\n",
    "epochs = 10\n",
    "train_loss = []\n",
    "val_loss = []\n"
   ]
  },
  {
   "cell_type": "code",
   "execution_count": 8,
   "id": "f9382967",
   "metadata": {
    "scrolled": true
   },
   "outputs": [
    {
     "data": {
      "application/vnd.jupyter.widget-view+json": {
       "model_id": "",
       "version_major": 2,
       "version_minor": 0
      },
      "text/plain": [
       "  0%|          | 0/8000 [00:00<?, ?it/s]"
      ]
     },
     "metadata": {},
     "output_type": "display_data"
    }
   ],
   "source": [
    "\n",
    "\n",
    "loop = trange(8000,leave = False)\n",
    "loop.set_description(\"training\")\n",
    "\n",
    "for i in loop:\n",
    "    model.train()\n",
    "    X,y=train_set[0]\n",
    "    optimizer.zero_grad()\n",
    "    X = X.to(\"cuda:0\")\n",
    "    out = torch.nn.functional.normalize(model(X))\n",
    "    y = y.to(\"cuda:0\")\n",
    "    idx = miner_(out,y)\n",
    "    loss = loss_fn(out,y,idx)\n",
    "    loss.backward()\n",
    "    optimizer.step()\n",
    "    train_loss.append(loss.item())\n",
    "    model.eval()\n",
    "\n",
    "    with torch.no_grad():\n",
    "        X,y = val_set[1]\n",
    "        X = X.to(\"cuda:0\")\n",
    "        out = torch.nn.functional.normalize(model(X))\n",
    "        y = y.to(\"cuda:0\")\n",
    "        loss = loss_fn(out,y)\n",
    "\n",
    "\n",
    "        val_loss.append(loss.item())\n",
    "    loop.set_postfix(dict(train = train_loss[-1],val = val_loss[-1]))\n"
   ]
  },
  {
   "cell_type": "code",
   "execution_count": 9,
   "id": "84b12211",
   "metadata": {},
   "outputs": [
    {
     "data": {
      "text/plain": [
       "[<matplotlib.lines.Line2D at 0x7fb541a44fd0>]"
      ]
     },
     "execution_count": 9,
     "metadata": {},
     "output_type": "execute_result"
    },
    {
     "data": {
      "image/png": "[encoded data removed]",
      "text/plain": [
       "<Figure size 432x288 with 1 Axes>"
      ]
     },
     "metadata": {
      "needs_background": "light"
     },
     "output_type": "display_data"
    }
   ],
   "source": [
    "plt.plot(train_loss,label = \"train\")\n",
    "plt.plot(val_loss, label=\"validation\")"
   ]
  },
  {
   "cell_type": "code",
   "execution_count": 10,
   "id": "2e88f669",
   "metadata": {},
   "outputs": [],
   "source": [
    "def smoothen(X,window):\n",
    "    return np.convolve(X,np.ones(window))/window"
   ]
  },
  {
   "cell_type": "code",
   "execution_count": 11,
   "id": "d20e7aa2",
   "metadata": {},
   "outputs": [
    {
     "data": {
      "text/plain": [
       "<matplotlib.legend.Legend at 0x7fb541abf3a0>"
      ]
     },
     "execution_count": 11,
     "metadata": {},
     "output_type": "execute_result"
    },
    {
     "data": {
      "image/png": "[encoded data removed]",
      "text/plain": [
       "<Figure size 432x288 with 1 Axes>"
      ]
     },
     "metadata": {
      "needs_background": "light"
     },
     "output_type": "display_data"
    }
   ],
   "source": [
    "plt.plot(smoothen(train_loss,50),label = \"train\")\n",
    "plt.plot(smoothen(val_loss,50), label=\"validation\")\n",
    "plt.legend()"
   ]
  },
  {
   "cell_type": "code",
   "execution_count": 12,
   "id": "13ca66ab",
   "metadata": {},
   "outputs": [
    {
     "data": {
      "application/vnd.jupyter.widget-view+json": {
       "model_id": "98228e8829b34397a96619fe5273005b",
       "version_major": 2,
       "version_minor": 0
      },
      "text/plain": [
       "  0%|          | 0/9525 [00:00<?, ?it/s]"
      ]
     },
     "metadata": {},
     "output_type": "display_data"
    }
   ],
   "source": [
    "embedded_train = np.zeros((len(train_ds),128))\n",
    "y_train = np.zeros(len(train_ds))\n",
    "with torch.no_grad():\n",
    "    for i,(X,y) in tqdm(enumerate(train_ds),total=len(train_ds)):\n",
    "        X = X.to(\"cuda:0\")\n",
    "        out = torch.nn.functional.normalize(model(torch.unsqueeze(X,0)))\n",
    "        out = out.cpu()\n",
    "        embedded_train[i,:]=out.numpy()\n",
    "        y_train[i] = y\n",
    "        \n",
    "        "
   ]
  },
  {
   "cell_type": "code",
   "execution_count": 13,
   "id": "83a6d87c",
   "metadata": {},
   "outputs": [],
   "source": [
    "test_set = dataset(val_ds,classes_per_batch=10,samples_per_class=5)\n",
    "train_test_set = dataset(train_ds,classes_per_batch=10,samples_per_class=5)"
   ]
  },
  {
   "cell_type": "code",
   "execution_count": 14,
   "id": "4ab53131",
   "metadata": {},
   "outputs": [
    {
     "name": "stdout",
     "output_type": "stream",
     "text": [
      "test batch loss =0.045928988605737686\n"
     ]
    }
   ],
   "source": [
    "with torch.no_grad():\n",
    "    X,y = test_set[1]\n",
    "    X = X.to(\"cuda:0\")\n",
    "    out = torch.nn.functional.normalize(model(X))\n",
    "    y = y.to(\"cuda:0\")\n",
    "    loss = loss_fn(out,y)\n",
    "    \n",
    "    out = out.cpu()\n",
    "    ou = out.numpy()\n",
    "    y = y.cpu()\n",
    "    y = y.numpy()\n",
    "    print(f\"test batch loss ={loss.item()}\")"
   ]
  },
  {
   "cell_type": "code",
   "execution_count": 15,
   "id": "bff048c0",
   "metadata": {},
   "outputs": [
    {
     "data": {
      "text/plain": [
       "<matplotlib.colorbar.Colorbar at 0x7fb541d069d0>"
      ]
     },
     "execution_count": 15,
     "metadata": {},
     "output_type": "execute_result"
    },
    {
     "data": {
      "image/png": "[encoded data removed]",
      "text/plain": [
       "<Figure size 432x288 with 2 Axes>"
      ]
     },
     "metadata": {
      "needs_background": "light"
     },
     "output_type": "display_data"
    }
   ],
   "source": [
    "umap=UMAP()\n",
    "projections=umap.fit_transform(out)\n",
    "plt.scatter(projections[:,0],projections[:,1],c = y,cmap = \"Set1\")\n",
    "plt.colorbar()"
   ]
  },
  {
   "cell_type": "code",
   "execution_count": 16,
   "id": "c8e6bcbe",
   "metadata": {},
   "outputs": [
    {
     "name": "stdout",
     "output_type": "stream",
     "text": [
      "train batch loss =0.04782424122095108\n"
     ]
    }
   ],
   "source": [
    "with torch.no_grad():\n",
    "    X,y = train_test_set[1]\n",
    "    X = X.to(\"cuda:0\")\n",
    "    out = torch.nn.functional.normalize(model(X))\n",
    "    y = y.to(\"cuda:0\")\n",
    "    loss = loss_fn(out,y)\n",
    "    \n",
    "    out = out.cpu()\n",
    "    ou = out.numpy()\n",
    "    y = y.cpu()\n",
    "    y = y.numpy()\n",
    "    print(f\"train batch loss ={loss.item()}\")"
   ]
  },
  {
   "cell_type": "code",
   "execution_count": 20,
   "id": "067256b5",
   "metadata": {},
   "outputs": [
    {
     "name": "stdout",
     "output_type": "stream",
     "text": [
      "train batch loss =0.04193175211548805\n"
     ]
    }
   ],
   "source": [
    "with torch.no_grad():\n",
    "    X,y = train_test_set[1]\n",
    "    X = X.to(\"cuda:0\")\n",
    "    out = torch.nn.functional.normalize(model(X))\n",
    "    y = y.to(\"cuda:0\")\n",
    "    loss = loss_fn(out,y)\n",
    "    \n",
    "    out = out.cpu()\n",
    "    ou = out.numpy()\n",
    "    y = y.cpu()\n",
    "    y = y.numpy()\n",
    "    print(f\"train batch loss ={loss.item()}\")"
   ]
  },
  {
   "cell_type": "code",
   "execution_count": 21,
   "id": "b8fa3d59",
   "metadata": {},
   "outputs": [
    {
     "data": {
      "text/plain": [
       "<matplotlib.colorbar.Colorbar at 0x7fb5423e1b50>"
      ]
     },
     "execution_count": 21,
     "metadata": {},
     "output_type": "execute_result"
    },
    {
     "data": {
      "image/png": "[encoded data removed]",
      "text/plain": [
       "<Figure size 432x288 with 2 Axes>"
      ]
     },
     "metadata": {
      "needs_background": "light"
     },
     "output_type": "display_data"
    }
   ],
   "source": [
    "umap=UMAP()\n",
    "projections=umap.fit_transform(out)\n",
    "plt.scatter(projections[:,0],projections[:,1],c = y,cmap = \"Set1\")\n",
    "plt.colorbar()\n",
    "        "
   ]
  },
  {
   "cell_type": "code",
   "execution_count": null,
   "id": "685a0921",
   "metadata": {},
   "outputs": [],
   "source": []
  }
 ],
 "metadata": {
  "kernelspec": {
   "display_name": "Python 3 (ipykernel)",
   "language": "python",
   "name": "python3"
  },
  "language_info": {
   "codemirror_mode": {
    "name": "ipython",
    "version": 3
   },
   "file_extension": ".py",
   "mimetype": "text/x-python",
   "name": "python",
   "nbconvert_exporter": "python",
   "pygments_lexer": "ipython3",
   "version": "3.8.8"
  }
 },
 "nbformat": 4,
 "nbformat_minor": 5
}
