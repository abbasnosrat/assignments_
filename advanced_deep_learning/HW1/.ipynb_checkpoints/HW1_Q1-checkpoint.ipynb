{
 "cells": [
  {
   "cell_type": "code",
   "execution_count": 38,
   "id": "60608592",
   "metadata": {},
   "outputs": [
    {
     "name": "stdout",
     "output_type": "stream",
     "text": [
      "Wed Mar 23 00:12:06 2022       \n",
      "+-----------------------------------------------------------------------------+\n",
      "| NVIDIA-SMI 462.35       Driver Version: 462.35       CUDA Version: 11.2     |\n",
      "|-------------------------------+----------------------+----------------------+\n",
      "| GPU  Name            TCC/WDDM | Bus-Id        Disp.A | Volatile Uncorr. ECC |\n",
      "| Fan  Temp  Perf  Pwr:Usage/Cap|         Memory-Usage | GPU-Util  Compute M. |\n",
      "|                               |                      |               MIG M. |\n",
      "|===============================+======================+======================|\n",
      "|   0  GeForce RTX 306... WDDM  | 00000000:01:00.0 Off |                  N/A |\n",
      "| N/A   50C    P0    25W /  N/A |   4324MiB /  6144MiB |      0%      Default |\n",
      "|                               |                      |                  N/A |\n",
      "+-------------------------------+----------------------+----------------------+\n",
      "                                                                               \n",
      "+-----------------------------------------------------------------------------+\n",
      "| Processes:                                                                  |\n",
      "|  GPU   GI   CI        PID   Type   Process name                  GPU Memory |\n",
      "|        ID   ID                                                   Usage      |\n",
      "|=============================================================================|\n",
      "|    0   N/A  N/A     19028      C   ...bbas\\Anaconda3\\python.exe    N/A      |\n",
      "+-----------------------------------------------------------------------------+\n"
     ]
    }
   ],
   "source": [
    "import matplotlib.pyplot as plt\n",
    "import numpy as np\n",
    "import random\n",
    "from PIL import Image\n",
    "import PIL.ImageOps    \n",
    "\n",
    "import torchvision\n",
    "import torchvision.datasets as datasets\n",
    "import torchvision.transforms as transforms\n",
    "from torch.utils.data import DataLoader, Dataset\n",
    "import torchvision.utils\n",
    "import torch\n",
    "from torch.autograd import Variable\n",
    "import torch.nn as nn\n",
    "from torch import optim\n",
    "import torch.nn.functional as F\n",
    "from tqdm.notebook import tqdm, trange\n",
    "from sklearn.neighbors import KNeighborsClassifier\n",
    "from sklearn.svm import SVC\n",
    "from sklearn.metrics import classification_report\n",
    "from model import SiameseNetwork\n",
    "\n",
    "!nvidia-smi"
   ]
  },
  {
   "cell_type": "code",
   "execution_count": 2,
   "id": "e624381d",
   "metadata": {},
   "outputs": [],
   "source": [
    "def imshow(img, text=None):\n",
    "    npimg = img.numpy()\n",
    "    plt.axis(\"off\")\n",
    "    if text:\n",
    "        plt.text(75, 8, text, style='italic',fontweight='bold',\n",
    "            bbox={'facecolor':'white', 'alpha':0.8, 'pad':10})\n",
    "        \n",
    "    plt.imshow(np.transpose(npimg, (1, 2, 0)))\n",
    "    plt.show()    \n",
    "\n"
   ]
  },
  {
   "cell_type": "code",
   "execution_count": 3,
   "id": "0672abe1",
   "metadata": {},
   "outputs": [],
   "source": [
    "class SiameseNetworkDataset(Dataset):\n",
    "    def __init__(self,imageFolderDataset,transform=None):\n",
    "        self.imageFolderDataset = imageFolderDataset    \n",
    "        self.transform = transform\n",
    "        \n",
    "    def __getitem__(self,index):\n",
    "        img0_tuple = random.choice(self.imageFolderDataset.imgs)\n",
    "\n",
    "        should_get_same_class = random.randint(0,1) \n",
    "        if should_get_same_class:\n",
    "            while True:\n",
    "                img1_tuple = random.choice(self.imageFolderDataset.imgs) \n",
    "                if img0_tuple[1] == img1_tuple[1]:\n",
    "                    break\n",
    "        else:\n",
    "\n",
    "            while True:\n",
    "                img1_tuple = random.choice(self.imageFolderDataset.imgs) \n",
    "                if img0_tuple[1] != img1_tuple[1]:\n",
    "                    break\n",
    "\n",
    "        img0 = Image.open(img0_tuple[0])\n",
    "        img1 = Image.open(img1_tuple[0])\n",
    "\n",
    "        img0 = img0.convert(\"RGB\")\n",
    "        img1 = img1.convert(\"RGB\")\n",
    "\n",
    "        if self.transform is not None:\n",
    "            img0 = self.transform(img0)\n",
    "            img1 = self.transform(img1)\n",
    "        \n",
    "        return img0, img1, torch.from_numpy(np.array([int(img1_tuple[1] != img0_tuple[1])], dtype=np.float32))\n",
    "    \n",
    "    def __len__(self):\n",
    "        return len(self.imageFolderDataset.imgs)\n",
    "        "
   ]
  },
  {
   "cell_type": "code",
   "execution_count": 4,
   "id": "7a8b20ca",
   "metadata": {},
   "outputs": [],
   "source": [
    "train_folder_dataset = datasets.ImageFolder(root=\"./dataset/classification/train1000/\")"
   ]
  },
  {
   "cell_type": "code",
   "execution_count": 5,
   "id": "31403a15",
   "metadata": {},
   "outputs": [],
   "source": [
    "transformation = transforms.Compose([\n",
    "                                     transforms.ToTensor()\n",
    "                                    ])\n",
    "siamese_dataset = SiameseNetworkDataset(imageFolderDataset=train_folder_dataset,\n",
    "                                        transform=transformation)"
   ]
  },
  {
   "cell_type": "code",
   "execution_count": 6,
   "id": "c3317494",
   "metadata": {},
   "outputs": [
    {
     "data": {
      "image/png": "[encoded data removed]",
      "text/plain": [
       "<Figure size 432x288 with 1 Axes>"
      ]
     },
     "metadata": {
      "needs_background": "light"
     },
     "output_type": "display_data"
    },
    {
     "name": "stdout",
     "output_type": "stream",
     "text": [
      "[1. 1. 1. 0. 0. 0. 1. 0.]\n"
     ]
    }
   ],
   "source": [
    "example_dl = DataLoader(siamese_dataset,\n",
    "                        shuffle=True,\n",
    "                        batch_size=8)\n",
    "\n",
    "example_batch = next(iter(example_dl))\n",
    "\n",
    "\n",
    "concatenated = torch.cat((example_batch[0], example_batch[1]),0)\n",
    "\n",
    "imshow(torchvision.utils.make_grid(concatenated))\n",
    "print(example_batch[2].numpy().reshape(-1))"
   ]
  },
  {
   "cell_type": "code",
   "execution_count": 6,
   "id": "e0505687",
   "metadata": {},
   "outputs": [],
   "source": [
    "class ContrastiveLoss(torch.nn.Module):\n",
    "    def __init__(self, margin=4.0):\n",
    "        super(ContrastiveLoss, self).__init__()\n",
    "        self.margin = margin\n",
    "\n",
    "    def forward(self, output1, output2, label):\n",
    "      euclidean_distance = F.pairwise_distance(output1, output2, keepdim = True)\n",
    "\n",
    "      loss_contrastive = torch.mean((1-label) * torch.pow(euclidean_distance, 2) +\n",
    "                                    (label) * torch.pow(torch.clamp(self.margin - euclidean_distance, min=0.0), 2))\n",
    "\n",
    "\n",
    "      return loss_contrastive"
   ]
  },
  {
   "cell_type": "code",
   "execution_count": 7,
   "id": "788ab8d8",
   "metadata": {},
   "outputs": [],
   "source": []
  },
  {
   "cell_type": "code",
   "execution_count": 13,
   "id": "206d8d2e",
   "metadata": {},
   "outputs": [],
   "source": [
    "model= SiameseNetwork(3)\n",
    "model = model.to(\"cuda\")\n",
    "loss_fn = ContrastiveLoss()\n",
    "\n",
    "loss_list = []\n"
   ]
  },
  {
   "cell_type": "code",
   "execution_count": 14,
   "id": "0f506a81",
   "metadata": {},
   "outputs": [
    {
     "data": {
      "application/vnd.jupyter.widget-view+json": {
       "model_id": "410c9657b28a409abd36f9c9ae446930",
       "version_major": 2,
       "version_minor": 0
      },
      "text/plain": [
       "  0%|          | 0/200 [00:00<?, ?it/s]"
      ]
     },
     "metadata": {},
     "output_type": "display_data"
    }
   ],
   "source": [
    "epochs = 200\n",
    "train_loader = DataLoader(siamese_dataset,\n",
    "                        shuffle=True,\n",
    "                        batch_size=128)\n",
    "loop = trange(epochs)\n",
    "optimizer = torch.optim.AdamW(model.parameters(),5e-4)\n",
    "\n",
    "for epoch in loop:\n",
    "    running_loss = 0\n",
    "    for X1 ,X2 ,y in train_loader:\n",
    "        X1, X2 , y = X1.to(\"cuda\") ,X2.to(\"cuda\") ,y.to(\"cuda\")\n",
    "        optimizer.zero_grad()\n",
    "        out1, out2= model(X1, X2)\n",
    "        loss = loss_fn(out1, out2, y)\n",
    "        loss.backward()\n",
    "        optimizer.step()\n",
    "        running_loss += loss.item()\n",
    "        \n",
    "    loss = running_loss/len(train_loader)\n",
    "    loss_list.append(loss)\n",
    "    loop.set_postfix(dict(loss = loss))"
   ]
  },
  {
   "cell_type": "code",
   "execution_count": 15,
   "id": "c8e016c9",
   "metadata": {},
   "outputs": [
    {
     "data": {
      "image/png": "[encoded data removed]",
      "text/plain": [
       "<Figure size 432x288 with 1 Axes>"
      ]
     },
     "metadata": {
      "needs_background": "light"
     },
     "output_type": "display_data"
    }
   ],
   "source": [
    "plt.plot(loss_list)\n",
    "plt.title(\"Contrastive Loss\")\n",
    "plt.xlabel(\"epoch\")\n",
    "plt.ylabel(\"loss\")\n",
    "plt.grid(\"on\")"
   ]
  },
  {
   "cell_type": "code",
   "execution_count": 39,
   "id": "95844c16",
   "metadata": {},
   "outputs": [
    {
     "data": {
      "application/vnd.jupyter.widget-view+json": {
       "model_id": "a4be93c6e46748bbbe6daee836b4acfd",
       "version_major": 2,
       "version_minor": 0
      },
      "text/plain": [
       "  0%|          | 0/20 [00:00<?, ?it/s]"
      ]
     },
     "metadata": {},
     "output_type": "display_data"
    },
    {
     "name": "stdout",
     "output_type": "stream",
     "text": [
      "validation loss = 0.49004318863153457\n"
     ]
    }
   ],
   "source": [
    "validation_folder_dataset = datasets.ImageFolder(root=\"./dataset/classification/test1000/\")\n",
    "validation_dataset = SiameseNetworkDataset(imageFolderDataset=validation_folder_dataset,\n",
    "                                        transform=transformation)\n",
    "val_loader = DataLoader(validation_dataset,\n",
    "                        shuffle=True,\n",
    "                        batch_size=256)\n",
    "loss_fn = ContrastiveLoss()\n",
    "\n",
    "with torch.no_grad():\n",
    "    running_loss = 0\n",
    "    for X1 ,X2 ,y in tqdm(val_loader):\n",
    "        X1, X2 , y = X1.to(\"cuda\") ,X2.to(\"cuda\") ,y.to(\"cuda\")\n",
    "        out1, out2= model(X1, X2)\n",
    "        loss = loss_fn(out1, out2, y)\n",
    "        running_loss += loss.item()\n",
    "        \n",
    "    loss = running_loss/len(val_loader)\n",
    "    \n",
    "print(f\"validation loss = {loss}\")"
   ]
  },
  {
   "cell_type": "code",
   "execution_count": 40,
   "id": "e7e6f610",
   "metadata": {},
   "outputs": [
    {
     "data": {
      "application/vnd.jupyter.widget-view+json": {
       "model_id": "bad28d8f76f742f9ae398f51e654ba9e",
       "version_major": 2,
       "version_minor": 0
      },
      "text/plain": [
       "  0%|          | 0/157 [00:00<?, ?it/s]"
      ]
     },
     "metadata": {},
     "output_type": "display_data"
    },
    {
     "name": "stdout",
     "output_type": "stream",
     "text": [
      "training loss = 0.3101087292288519\n"
     ]
    }
   ],
   "source": [
    "train_loader = DataLoader(siamese_dataset,\n",
    "                        shuffle=True,\n",
    "                        batch_size=128)\n",
    "with torch.no_grad():\n",
    "    running_loss = 0\n",
    "    for X1 ,X2 ,y in tqdm(train_loader):\n",
    "        X1, X2 , y = X1.to(\"cuda\") ,X2.to(\"cuda\") ,y.to(\"cuda\")\n",
    "        out1, out2= model(X1, X2)\n",
    "        loss = loss_fn(out1, out2, y)\n",
    "        running_loss += loss.item()\n",
    "        \n",
    "    loss = running_loss/len(train_loader)\n",
    "    \n",
    "print(f\"training loss = {loss}\")"
   ]
  },
  {
   "cell_type": "code",
   "execution_count": 12,
   "id": "92adc570",
   "metadata": {},
   "outputs": [
    {
     "name": "stderr",
     "output_type": "stream",
     "text": [
      "100%|██████████| 20000/20000 [00:57<00:00, 346.73it/s]\n"
     ]
    }
   ],
   "source": [
    "train_clf_dataset = datasets.ImageFolder(root=\"./dataset/classification/train1000/\"\n",
    "                                                 ,transform=transforms.ToTensor())\n",
    "with torch.no_grad():\n",
    "    outs=torch.zeros(len(train_clf_dataset),30)\n",
    "    ys = np.zeros(len(train_clf_dataset))\n",
    "    for i, (X, y) in tqdm(enumerate(train_clf_dataset)\n",
    "                          ,total = len(train_clf_dataset)):\n",
    "        X=torch.unsqueeze(X,0)\n",
    "        X=X.to(\"cuda\")\n",
    "        out=model.forward_once(X)\n",
    "        outs[i,:] = out.to(\"cpu\")\n",
    "        ys[i] = y\n",
    "outs=outs.to(\"cpu\")\n",
    "outs=outs.numpy()\n",
    "X_train = outs\n",
    "y_train = ys"
   ]
  },
  {
   "cell_type": "code",
   "execution_count": 13,
   "id": "c0c9f7c3",
   "metadata": {},
   "outputs": [],
   "source": [
    "validation_folder_dataset = datasets.ImageFolder(root=\"./dataset/classification/test1000/\"\n",
    "                                                 ,transform=transforms.ToTensor())"
   ]
  },
  {
   "cell_type": "code",
   "execution_count": 16,
   "id": "facd0075",
   "metadata": {},
   "outputs": [
    {
     "name": "stderr",
     "output_type": "stream",
     "text": [
      "100%|██████████| 5000/5000 [00:12<00:00, 398.16it/s]\n"
     ]
    }
   ],
   "source": [
    "with torch.no_grad():\n",
    "    outs=torch.zeros(len(validation_folder_dataset),30)\n",
    "    ys = np.zeros(len(validation_folder_dataset))\n",
    "    for i, (X, y) in tqdm(enumerate(validation_folder_dataset)\n",
    "                          ,total = len(validation_folder_dataset)):\n",
    "        X=torch.unsqueeze(X,0)\n",
    "        X=X.to(\"cuda\")\n",
    "        out=model.forward_once(X)\n",
    "        outs[i,:] = out.to(\"cpu\")\n",
    "        ys[i] = y\n",
    "outs=outs.to(\"cpu\")\n",
    "outs=outs.numpy()\n",
    "X_test = outs\n",
    "y_test = ys"
   ]
  },
  {
   "cell_type": "code",
   "execution_count": 17,
   "id": "ae3ad175",
   "metadata": {},
   "outputs": [
    {
     "data": {
      "text/plain": [
       "0.0624"
      ]
     },
     "execution_count": 17,
     "metadata": {},
     "output_type": "execute_result"
    }
   ],
   "source": [
    "clf = KNeighborsClassifier(n_neighbors = 16)\n",
    "clf.fit(X_train, y_train)\n",
    "clf.score(X_test,y_test)"
   ]
  },
  {
   "cell_type": "code",
   "execution_count": 18,
   "id": "29291846",
   "metadata": {},
   "outputs": [
    {
     "data": {
      "text/plain": [
       "0.0652"
      ]
     },
     "execution_count": 18,
     "metadata": {},
     "output_type": "execute_result"
    }
   ],
   "source": [
    "clf = SVC()\n",
    "clf.fit(X_train, y_train)\n",
    "clf.score(X_test,y_test)"
   ]
  },
  {
   "cell_type": "code",
   "execution_count": 19,
   "id": "d0e0af0c",
   "metadata": {},
   "outputs": [],
   "source": [
    "idx = np.where(y_train <= 3 )"
   ]
  },
  {
   "cell_type": "code",
   "execution_count": 20,
   "id": "d5191f8f",
   "metadata": {},
   "outputs": [],
   "source": [
    "X_train_sub = X_train[idx[0],:]\n",
    "y_train_sub = y_train[idx[0]]\n"
   ]
  },
  {
   "cell_type": "code",
   "execution_count": 21,
   "id": "57abbcd0",
   "metadata": {},
   "outputs": [],
   "source": [
    "idx = np.where(y_test <= 3 )\n",
    "X_test_sub = X_test[idx[0],:]\n",
    "y_test_sub = y_test[idx[0]]\n"
   ]
  },
  {
   "cell_type": "code",
   "execution_count": 22,
   "id": "d95296fb",
   "metadata": {},
   "outputs": [
    {
     "name": "stdout",
     "output_type": "stream",
     "text": [
      "test acc 0.7, training acc 0.9125\n"
     ]
    }
   ],
   "source": [
    "clf = KNeighborsClassifier(n_neighbors = 16)\n",
    "clf.fit(X_train_sub, y_train_sub)\n",
    "print(f\"test acc {clf.score(X_test_sub,y_test_sub)}, training acc {clf.score(X_train_sub,y_train_sub)}\")"
   ]
  },
  {
   "cell_type": "code",
   "execution_count": 23,
   "id": "03b3ed6b",
   "metadata": {},
   "outputs": [
    {
     "name": "stdout",
     "output_type": "stream",
     "text": [
      "test acc 0.85, training acc 0.9375\n"
     ]
    }
   ],
   "source": [
    "clf = SVC()\n",
    "clf.fit(X_train_sub, y_train_sub)\n",
    "print(f\"test acc {clf.score(X_test_sub,y_test_sub)}, training acc {clf.score(X_train_sub,y_train_sub)}\")"
   ]
  },
  {
   "cell_type": "code",
   "execution_count": 24,
   "id": "cdb25309",
   "metadata": {},
   "outputs": [
    {
     "name": "stdout",
     "output_type": "stream",
     "text": [
      "              precision    recall  f1-score   support\n",
      "\n",
      "         0.0       1.00      1.00      1.00         5\n",
      "         1.0       0.83      1.00      0.91         5\n",
      "         2.0       0.67      0.80      0.73         5\n",
      "         3.0       1.00      0.60      0.75         5\n",
      "\n",
      "    accuracy                           0.85        20\n",
      "   macro avg       0.88      0.85      0.85        20\n",
      "weighted avg       0.88      0.85      0.85        20\n",
      "\n"
     ]
    }
   ],
   "source": [
    "y_pred = clf.predict(X_test_sub)\n",
    "print(classification_report(y_test_sub,y_pred))"
   ]
  },
  {
   "cell_type": "code",
   "execution_count": 26,
   "id": "eda02f45",
   "metadata": {},
   "outputs": [
    {
     "data": {
      "text/plain": [
       "Text(0.5, 1.0, 'Confusion Matrix')"
      ]
     },
     "execution_count": 26,
     "metadata": {},
     "output_type": "execute_result"
    },
    {
     "data": {
      "image/png": "[encoded data removed]",
      "text/plain": [
       "<Figure size 432x288 with 2 Axes>"
      ]
     },
     "metadata": {
      "needs_background": "light"
     },
     "output_type": "display_data"
    }
   ],
   "source": [
    "from sklearn.metrics import confusion_matrix\n",
    "import seaborn as sns\n",
    "sns.heatmap(confusion_matrix(y_test_sub,y_pred),annot=True)\n",
    "plt.title(\"Confusion Matrix\")"
   ]
  }
 ],
 "metadata": {
  "kernelspec": {
   "display_name": "Python 3 (ipykernel)",
   "language": "python",
   "name": "python3"
  },
  "language_info": {
   "codemirror_mode": {
    "name": "ipython",
    "version": 3
   },
   "file_extension": ".py",
   "mimetype": "text/x-python",
   "name": "python",
   "nbconvert_exporter": "python",
   "pygments_lexer": "ipython3",
   "version": "3.9.7"
  }
 },
 "nbformat": 4,
 "nbformat_minor": 5
}
