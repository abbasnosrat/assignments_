{
 "cells": [
  {
   "cell_type": "code",
   "execution_count": 28,
   "id": "00257867",
   "metadata": {
    "pycharm": {
     "name": "#%%\n"
    }
   },
   "outputs": [
    {
     "name": "stdout",
     "output_type": "stream",
     "text": [
      "Wed Mar 23 00:49:42 2022       \n",
      "+-----------------------------------------------------------------------------+\n",
      "| NVIDIA-SMI 462.35       Driver Version: 462.35       CUDA Version: 11.2     |\n",
      "|-------------------------------+----------------------+----------------------+\n",
      "| GPU  Name            TCC/WDDM | Bus-Id        Disp.A | Volatile Uncorr. ECC |\n",
      "| Fan  Temp  Perf  Pwr:Usage/Cap|         Memory-Usage | GPU-Util  Compute M. |\n",
      "|                               |                      |               MIG M. |\n",
      "|===============================+======================+======================|\n",
      "|   0  GeForce RTX 306... WDDM  | 00000000:01:00.0 Off |                  N/A |\n",
      "| N/A   40C    P0    22W /  N/A |    121MiB /  6144MiB |      0%      Default |\n",
      "|                               |                      |                  N/A |\n",
      "+-------------------------------+----------------------+----------------------+\n",
      "                                                                               \n",
      "+-----------------------------------------------------------------------------+\n",
      "| Processes:                                                                  |\n",
      "|  GPU   GI   CI        PID   Type   Process name                  GPU Memory |\n",
      "|        ID   ID                                                   Usage      |\n",
      "|=============================================================================|\n",
      "|  No running processes found                                                 |\n",
      "+-----------------------------------------------------------------------------+\n"
     ]
    }
   ],
   "source": [
    "import matplotlib.pyplot as plt\n",
    "import numpy as np\n",
    "import random\n",
    "from PIL import Image\n",
    "import PIL.ImageOps    \n",
    "\n",
    "import torchvision\n",
    "import torchvision.datasets as datasets\n",
    "import torchvision.transforms as transforms\n",
    "from torch.utils.data import DataLoader, Dataset\n",
    "import torchvision.utils\n",
    "import torch\n",
    "from torch.autograd import Variable\n",
    "import torch.nn as nn\n",
    "from torch import optim\n",
    "import torch.nn.functional as F\n",
    "from tqdm.notebook import tqdm, trange\n",
    "import pandas as pd\n",
    "from model import *\n",
    "!nvidia-smi"
   ]
  },
  {
   "cell_type": "code",
   "execution_count": 25,
   "id": "23377c8e",
   "metadata": {
    "pycharm": {
     "name": "#%%\n"
    }
   },
   "outputs": [
    {
     "data": {
      "text/html": [
       "<div>\n",
       "<style scoped>\n",
       "    .dataframe tbody tr th:only-of-type {\n",
       "        vertical-align: middle;\n",
       "    }\n",
       "\n",
       "    .dataframe tbody tr th {\n",
       "        vertical-align: top;\n",
       "    }\n",
       "\n",
       "    .dataframe thead th {\n",
       "        text-align: right;\n",
       "    }\n",
       "</style>\n",
       "<table border=\"1\" class=\"dataframe\">\n",
       "  <thead>\n",
       "    <tr style=\"text-align: right;\">\n",
       "      <th></th>\n",
       "      <th>image_A</th>\n",
       "      <th>image_B</th>\n",
       "      <th>match</th>\n",
       "    </tr>\n",
       "  </thead>\n",
       "  <tbody>\n",
       "    <tr>\n",
       "      <th>0</th>\n",
       "      <td>dev/ab001b21a1.jpg</td>\n",
       "      <td>dev/10246770ce.jpg</td>\n",
       "      <td>0.0</td>\n",
       "    </tr>\n",
       "    <tr>\n",
       "      <th>1</th>\n",
       "      <td>dev/c692b5fa6b.jpg</td>\n",
       "      <td>dev/299becf799.jpg</td>\n",
       "      <td>1.0</td>\n",
       "    </tr>\n",
       "    <tr>\n",
       "      <th>2</th>\n",
       "      <td>dev/d0dc5318e4.jpg</td>\n",
       "      <td>dev/3aac902136.jpg</td>\n",
       "      <td>1.0</td>\n",
       "    </tr>\n",
       "    <tr>\n",
       "      <th>3</th>\n",
       "      <td>dev/f9643ca7b5.jpg</td>\n",
       "      <td>dev/6f300f3205.jpg</td>\n",
       "      <td>0.0</td>\n",
       "    </tr>\n",
       "    <tr>\n",
       "      <th>4</th>\n",
       "      <td>dev/95ccb4131a.jpg</td>\n",
       "      <td>dev/3d207ca2b2.jpg</td>\n",
       "      <td>1.0</td>\n",
       "    </tr>\n",
       "  </tbody>\n",
       "</table>\n",
       "</div>"
      ],
      "text/plain": [
       "              image_A             image_B  match\n",
       "0  dev/ab001b21a1.jpg  dev/10246770ce.jpg    0.0\n",
       "1  dev/c692b5fa6b.jpg  dev/299becf799.jpg    1.0\n",
       "2  dev/d0dc5318e4.jpg  dev/3aac902136.jpg    1.0\n",
       "3  dev/f9643ca7b5.jpg  dev/6f300f3205.jpg    0.0\n",
       "4  dev/95ccb4131a.jpg  dev/3d207ca2b2.jpg    1.0"
      ]
     },
     "execution_count": 25,
     "metadata": {},
     "output_type": "execute_result"
    }
   ],
   "source": [
    "dataset_keys = pd.read_csv(\"./dataset/verification/verification_dev.csv\")\n",
    "dataset_keys.match = dataset_keys.match.map(lambda x: np.float32(not x))\n",
    "dataset_keys.head()"
   ]
  },
  {
   "cell_type": "code",
   "execution_count": 33,
   "id": "5919f0e1",
   "metadata": {
    "pycharm": {
     "name": "#%%\n"
    }
   },
   "outputs": [],
   "source": [
    "class ContrastiveLoss(torch.nn.Module):\n",
    "    def __init__(self, margin=4.0):\n",
    "        super(ContrastiveLoss, self).__init__()\n",
    "        self.margin = margin\n",
    "\n",
    "    def forward(self, output1, output2, label):\n",
    "      euclidean_distance = F.pairwise_distance(output1, output2, keepdim = True)\n",
    "\n",
    "      loss_contrastive = torch.mean((1-label) * torch.pow(euclidean_distance, 2) +\n",
    "                                    (label) * torch.pow(torch.clamp(self.margin - euclidean_distance, min=0.0), 2))\n",
    "\n",
    "\n",
    "      return loss_contrastive"
   ]
  },
  {
   "cell_type": "code",
   "execution_count": 80,
   "id": "71a58c01",
   "metadata": {
    "pycharm": {
     "name": "#%%\n"
    }
   },
   "outputs": [],
   "source": [
    "class VarificationDataset(Dataset):\n",
    "    def __init__(self, keys, path = \"./dataset/verification/\", transform = None):\n",
    "        \n",
    "        \n",
    "        self.keys = keys.reset_index()\n",
    "        self.path = path\n",
    "        self.transform = transform\n",
    "    def __len__(self):\n",
    "        return len(self.keys)\n",
    "    def __getitem__(self,index):\n",
    "        \n",
    "        key = self.keys.loc[index]\n",
    "        image_A = Image.open(self.path+key.image_A)\n",
    "        image_B = Image.open(self.path+key.image_B)\n",
    "        label = key.match\n",
    "        image_A.convert(\"RGB\")\n",
    "        image_B.convert(\"RGB\")\n",
    "        \n",
    "        if self.transform is not None:\n",
    "            image_A = self.transform(image_A)\n",
    "            image_B = self.transform(image_B)\n",
    "            \n",
    "        return image_A, image_B, torch.from_numpy(np.array([label],dtype = np.float32))\n",
    "        "
   ]
  },
  {
   "cell_type": "code",
   "execution_count": 81,
   "id": "13d56ee4",
   "metadata": {
    "pycharm": {
     "name": "#%%\n"
    }
   },
   "outputs": [],
   "source": [
    "idx = np.random.permutation(len(dataset_keys))\n",
    "spl = int(0.8*len(dataset_keys))\n",
    "train_keys = dataset_keys.loc[idx[:spl]]\n",
    "val_keys = dataset_keys.loc[idx[spl:]]"
   ]
  },
  {
   "cell_type": "code",
   "execution_count": 87,
   "id": "a17a6c25",
   "metadata": {
    "pycharm": {
     "name": "#%%\n"
    }
   },
   "outputs": [],
   "source": [
    "train_set = VarificationDataset(train_keys,transform=transforms.ToTensor())\n",
    "train_loader = DataLoader(train_set,batch_size=128, shuffle=True)\n",
    "val_set = VarificationDataset(val_keys,transform=transforms.ToTensor())\n",
    "val_loader = DataLoader(val_set,batch_size=128, shuffle=True)"
   ]
  },
  {
   "cell_type": "code",
   "execution_count": 91,
   "id": "b1848022",
   "metadata": {
    "pycharm": {
     "name": "#%%\n"
    }
   },
   "outputs": [],
   "source": [
    "model= SiameseNetwork(3)\n",
    "model = model.to(\"cuda\")\n",
    "loss_fn = ContrastiveLoss()\n",
    "\n",
    "train_loss_list = []\n",
    "val_loss_list = []"
   ]
  },
  {
   "cell_type": "code",
   "execution_count": 92,
   "id": "2cdb5be3",
   "metadata": {
    "pycharm": {
     "name": "#%%\n"
    }
   },
   "outputs": [
    {
     "data": {
      "application/vnd.jupyter.widget-view+json": {
       "model_id": "1e42005c283d49659c814c44c149628f",
       "version_major": 2,
       "version_minor": 0
      },
      "text/plain": [
       "  0%|          | 0/10 [00:00<?, ?it/s]"
      ]
     },
     "metadata": {},
     "output_type": "display_data"
    },
    {
     "data": {
      "application/vnd.jupyter.widget-view+json": {
       "model_id": "",
       "version_major": 2,
       "version_minor": 0
      },
      "text/plain": [
       "training:   0%|          | 0/1043 [00:00<?, ?it/s]"
      ]
     },
     "metadata": {},
     "output_type": "display_data"
    },
    {
     "data": {
      "application/vnd.jupyter.widget-view+json": {
       "model_id": "",
       "version_major": 2,
       "version_minor": 0
      },
      "text/plain": [
       "validation:   0%|          | 0/261 [00:00<?, ?it/s]"
      ]
     },
     "metadata": {},
     "output_type": "display_data"
    },
    {
     "data": {
      "application/vnd.jupyter.widget-view+json": {
       "model_id": "",
       "version_major": 2,
       "version_minor": 0
      },
      "text/plain": [
       "training:   0%|          | 0/1043 [00:00<?, ?it/s]"
      ]
     },
     "metadata": {},
     "output_type": "display_data"
    },
    {
     "data": {
      "application/vnd.jupyter.widget-view+json": {
       "model_id": "",
       "version_major": 2,
       "version_minor": 0
      },
      "text/plain": [
       "validation:   0%|          | 0/261 [00:00<?, ?it/s]"
      ]
     },
     "metadata": {},
     "output_type": "display_data"
    },
    {
     "data": {
      "application/vnd.jupyter.widget-view+json": {
       "model_id": "",
       "version_major": 2,
       "version_minor": 0
      },
      "text/plain": [
       "training:   0%|          | 0/1043 [00:00<?, ?it/s]"
      ]
     },
     "metadata": {},
     "output_type": "display_data"
    },
    {
     "data": {
      "application/vnd.jupyter.widget-view+json": {
       "model_id": "",
       "version_major": 2,
       "version_minor": 0
      },
      "text/plain": [
       "validation:   0%|          | 0/261 [00:00<?, ?it/s]"
      ]
     },
     "metadata": {},
     "output_type": "display_data"
    },
    {
     "data": {
      "application/vnd.jupyter.widget-view+json": {
       "model_id": "",
       "version_major": 2,
       "version_minor": 0
      },
      "text/plain": [
       "training:   0%|          | 0/1043 [00:00<?, ?it/s]"
      ]
     },
     "metadata": {},
     "output_type": "display_data"
    },
    {
     "data": {
      "application/vnd.jupyter.widget-view+json": {
       "model_id": "",
       "version_major": 2,
       "version_minor": 0
      },
      "text/plain": [
       "validation:   0%|          | 0/261 [00:00<?, ?it/s]"
      ]
     },
     "metadata": {},
     "output_type": "display_data"
    },
    {
     "data": {
      "application/vnd.jupyter.widget-view+json": {
       "model_id": "",
       "version_major": 2,
       "version_minor": 0
      },
      "text/plain": [
       "training:   0%|          | 0/1043 [00:00<?, ?it/s]"
      ]
     },
     "metadata": {},
     "output_type": "display_data"
    },
    {
     "data": {
      "application/vnd.jupyter.widget-view+json": {
       "model_id": "",
       "version_major": 2,
       "version_minor": 0
      },
      "text/plain": [
       "validation:   0%|          | 0/261 [00:00<?, ?it/s]"
      ]
     },
     "metadata": {},
     "output_type": "display_data"
    },
    {
     "data": {
      "application/vnd.jupyter.widget-view+json": {
       "model_id": "",
       "version_major": 2,
       "version_minor": 0
      },
      "text/plain": [
       "training:   0%|          | 0/1043 [00:00<?, ?it/s]"
      ]
     },
     "metadata": {},
     "output_type": "display_data"
    },
    {
     "data": {
      "application/vnd.jupyter.widget-view+json": {
       "model_id": "",
       "version_major": 2,
       "version_minor": 0
      },
      "text/plain": [
       "validation:   0%|          | 0/261 [00:00<?, ?it/s]"
      ]
     },
     "metadata": {},
     "output_type": "display_data"
    },
    {
     "data": {
      "application/vnd.jupyter.widget-view+json": {
       "model_id": "",
       "version_major": 2,
       "version_minor": 0
      },
      "text/plain": [
       "training:   0%|          | 0/1043 [00:00<?, ?it/s]"
      ]
     },
     "metadata": {},
     "output_type": "display_data"
    },
    {
     "data": {
      "application/vnd.jupyter.widget-view+json": {
       "model_id": "",
       "version_major": 2,
       "version_minor": 0
      },
      "text/plain": [
       "validation:   0%|          | 0/261 [00:00<?, ?it/s]"
      ]
     },
     "metadata": {},
     "output_type": "display_data"
    },
    {
     "data": {
      "application/vnd.jupyter.widget-view+json": {
       "model_id": "",
       "version_major": 2,
       "version_minor": 0
      },
      "text/plain": [
       "training:   0%|          | 0/1043 [00:00<?, ?it/s]"
      ]
     },
     "metadata": {},
     "output_type": "display_data"
    },
    {
     "data": {
      "application/vnd.jupyter.widget-view+json": {
       "model_id": "",
       "version_major": 2,
       "version_minor": 0
      },
      "text/plain": [
       "validation:   0%|          | 0/261 [00:00<?, ?it/s]"
      ]
     },
     "metadata": {},
     "output_type": "display_data"
    },
    {
     "data": {
      "application/vnd.jupyter.widget-view+json": {
       "model_id": "",
       "version_major": 2,
       "version_minor": 0
      },
      "text/plain": [
       "training:   0%|          | 0/1043 [00:00<?, ?it/s]"
      ]
     },
     "metadata": {},
     "output_type": "display_data"
    },
    {
     "data": {
      "application/vnd.jupyter.widget-view+json": {
       "model_id": "",
       "version_major": 2,
       "version_minor": 0
      },
      "text/plain": [
       "validation:   0%|          | 0/261 [00:00<?, ?it/s]"
      ]
     },
     "metadata": {},
     "output_type": "display_data"
    },
    {
     "data": {
      "application/vnd.jupyter.widget-view+json": {
       "model_id": "",
       "version_major": 2,
       "version_minor": 0
      },
      "text/plain": [
       "training:   0%|          | 0/1043 [00:00<?, ?it/s]"
      ]
     },
     "metadata": {},
     "output_type": "display_data"
    },
    {
     "data": {
      "application/vnd.jupyter.widget-view+json": {
       "model_id": "",
       "version_major": 2,
       "version_minor": 0
      },
      "text/plain": [
       "validation:   0%|          | 0/261 [00:00<?, ?it/s]"
      ]
     },
     "metadata": {},
     "output_type": "display_data"
    }
   ],
   "source": [
    "epochs = 10\n",
    "\n",
    "loop = trange(epochs)\n",
    "optimizer = torch.optim.AdamW(model.parameters(),1e-3)\n",
    "\n",
    "for epoch in loop:\n",
    "    running_loss = 0\n",
    "    model.train()\n",
    "    for X1 ,X2 ,y in tqdm(train_loader,\"training\",leave=False):\n",
    "        X1, X2 , y = X1.to(\"cuda\") ,X2.to(\"cuda\") ,y.to(\"cuda\")\n",
    "        optimizer.zero_grad()\n",
    "        out1, out2= model(X1, X2)\n",
    "        loss = loss_fn(out1, out2, y)\n",
    "        loss.backward()\n",
    "        optimizer.step()\n",
    "        running_loss += loss.item()\n",
    "        \n",
    "    loss = running_loss/len(train_loader)\n",
    "    train_loss_list.append(loss)\n",
    "    running_loss = 0\n",
    "    with torch.no_grad():\n",
    "        model.eval()\n",
    "        running_loss = 0\n",
    "        for X1 ,X2 ,y in tqdm(val_loader,\"validation\",leave = False):\n",
    "            X1, X2 , y = X1.to(\"cuda\") ,X2.to(\"cuda\") ,y.to(\"cuda\")\n",
    "            out1, out2= model(X1, X2)\n",
    "            loss = loss_fn(out1, out2, y)\n",
    "            running_loss += loss.item()\n",
    "\n",
    "    loss = running_loss/len(val_loader)\n",
    "    val_loss_list.append(loss)\n",
    "    loop.set_postfix(dict(train_loss = train_loss_list[-1], val_loss = val_loss_list[-1]))\n",
    "        \n",
    "    "
   ]
  },
  {
   "cell_type": "code",
   "execution_count": 96,
   "id": "1ebe218a",
   "metadata": {
    "pycharm": {
     "name": "#%%\n"
    }
   },
   "outputs": [
    {
     "data": {
      "image/png": "[encoded data removed]",
      "text/plain": [
       "<Figure size 432x288 with 1 Axes>"
      ]
     },
     "metadata": {
      "needs_background": "light"
     },
     "output_type": "display_data"
    }
   ],
   "source": [
    "plt.plot(train_loss_list,label = \"train\")\n",
    "plt.plot(val_loss_list,label = \"validation\")\n",
    "plt.title(\"Contrastive Loss\")\n",
    "plt.xlabel(\"epoch\")\n",
    "plt.ylabel(\"loss\")\n",
    "plt.grid(\"on\")"
   ]
  },
  {
   "cell_type": "code",
   "execution_count": 101,
   "id": "68a34e00",
   "metadata": {
    "pycharm": {
     "name": "#%%\n"
    }
   },
   "outputs": [
    {
     "data": {
      "application/vnd.jupyter.widget-view+json": {
       "model_id": "4abdab7e03744c40a90bcbb81dce9653",
       "version_major": 2,
       "version_minor": 0
      },
      "text/plain": [
       "embedding_training:   0%|          | 0/133440 [00:00<?, ?it/s]"
      ]
     },
     "metadata": {},
     "output_type": "display_data"
    }
   ],
   "source": [
    "with torch.no_grad():\n",
    "    outs1 = torch.zeros(len(train_set),30)\n",
    "    outs2 = torch.zeros_like(outs1)\n",
    "    labels = torch.zeros(len(train_set))\n",
    "    for i, (X1 ,X2 ,y) in tqdm(enumerate(train_set),\"embedding_training\",leave=False\n",
    "                              ,total = len(train_set)):\n",
    "        X1, X2 = X1.to(\"cuda\") ,X2.to(\"cuda\") \n",
    "        optimizer.zero_grad()\n",
    "        X1 = torch.unsqueeze(X1,0)\n",
    "        X2 = torch.unsqueeze(X2,0)\n",
    "        out1, out2= model(X1, X2)\n",
    "        outs1[i,:] = out1.to(\"cpu\")\n",
    "        outs2[i,:] = out2.to(\"cpu\")\n",
    "        labels[i] = y\n",
    "        if i == len(train_set)-1:\n",
    "            break\n",
    "        \n",
    "X1_train = outs1.numpy()\n",
    "X2_train = outs2.numpy()\n",
    "y_train = labels.numpy()"
   ]
  },
  {
   "cell_type": "code",
   "execution_count": 102,
   "id": "abbb03a5",
   "metadata": {
    "pycharm": {
     "name": "#%%\n"
    }
   },
   "outputs": [
    {
     "data": {
      "application/vnd.jupyter.widget-view+json": {
       "model_id": "df7464ab353941ada747ebbd21696772",
       "version_major": 2,
       "version_minor": 0
      },
      "text/plain": [
       "embedding_training:   0%|          | 0/33360 [00:00<?, ?it/s]"
      ]
     },
     "metadata": {},
     "output_type": "display_data"
    }
   ],
   "source": [
    "with torch.no_grad():\n",
    "    outs1 = torch.zeros(len(val_set),30)\n",
    "    outs2 = torch.zeros_like(outs1)\n",
    "    labels = torch.zeros(len(val_set))\n",
    "    for i, (X1 ,X2 ,y) in tqdm(enumerate(val_set),\"embedding_training\",leave=False\n",
    "                              ,total = len(val_set)):\n",
    "        X1, X2 = X1.to(\"cuda\") ,X2.to(\"cuda\") \n",
    "        optimizer.zero_grad()\n",
    "        X1 = torch.unsqueeze(X1,0)\n",
    "        X2 = torch.unsqueeze(X2,0)\n",
    "        out1, out2= model(X1, X2)\n",
    "        outs1[i,:] = out1.to(\"cpu\")\n",
    "        outs2[i,:] = out2.to(\"cpu\")\n",
    "        labels[i] = y\n",
    "        if i == len(val_set)-1:\n",
    "            break\n",
    "X1_val = outs1.numpy()\n",
    "X2_val = outs2.numpy()\n",
    "y_val = labels.numpy()"
   ]
  },
  {
   "cell_type": "code",
   "execution_count": 169,
   "id": "9c595c88",
   "metadata": {
    "pycharm": {
     "name": "#%%\n"
    }
   },
   "outputs": [
    {
     "data": {
      "image/png": "[encoded data removed]",
      "text/plain": [
       "<Figure size 432x288 with 1 Axes>"
      ]
     },
     "metadata": {
      "needs_background": "light"
     },
     "output_type": "display_data"
    }
   ],
   "source": [
    "distances = np.linalg.norm(X1_train-X2_train,axis=1)\n",
    "plt.hist(distances[y_train==0],bins=25,label = \"train matched\")\n",
    "plt.hist(distances[y_train==1],bins=25, alpha=0.6,label = \"train unmatched\")\n",
    "distances = np.linalg.norm(X1_val-X2_val,axis=1)\n",
    "plt.hist(distances[y_val==0],bins=25,alpha = 0.8,label = \"val matched\")\n",
    "plt.hist(distances[y_val==1],bins=25, alpha=0.5,label = \"val unmatched\")\n",
    "plt.axvline(2.2,color = '#6a0dad',label = \"decision boundary\")\n",
    "plt.title(\"distribution of distances\")\n",
    "plt.legend()\n",
    "plt.grid(\"on\")\n",
    "plt.show()"
   ]
  },
  {
   "cell_type": "code",
   "execution_count": 138,
   "id": "638aba40",
   "metadata": {
    "pycharm": {
     "name": "#%%\n"
    }
   },
   "outputs": [],
   "source": [
    "def classifier(X1,X2,margin):\n",
    "    distances = np.linalg.norm(X1-X2,axis=1)\n",
    "    prediction = np.float32(distances>=margin)\n",
    "    return prediction\n",
    "    "
   ]
  },
  {
   "cell_type": "code",
   "execution_count": 139,
   "id": "175242a3",
   "metadata": {
    "pycharm": {
     "name": "#%%\n"
    }
   },
   "outputs": [],
   "source": [
    "y_pred = classifier(X1_val,X2_val,2.2)"
   ]
  },
  {
   "cell_type": "code",
   "execution_count": 140,
   "id": "0c4ad80b",
   "metadata": {
    "pycharm": {
     "name": "#%%\n"
    }
   },
   "outputs": [],
   "source": [
    "from sklearn import metrics"
   ]
  },
  {
   "cell_type": "code",
   "execution_count": 141,
   "id": "299671bb",
   "metadata": {
    "pycharm": {
     "name": "#%%\n"
    }
   },
   "outputs": [
    {
     "data": {
      "text/plain": [
       "0.9829736211031175"
      ]
     },
     "execution_count": 141,
     "metadata": {},
     "output_type": "execute_result"
    }
   ],
   "source": [
    "metrics.accuracy_score(y_val,y_pred)"
   ]
  },
  {
   "cell_type": "code",
   "execution_count": 162,
   "id": "2df5d2ee",
   "metadata": {
    "pycharm": {
     "name": "#%%\n"
    }
   },
   "outputs": [
    {
     "data": {
      "image/png": "[encoded data removed]",
      "text/plain": [
       "<Figure size 432x288 with 1 Axes>"
      ]
     },
     "metadata": {
      "needs_background": "light"
     },
     "output_type": "display_data"
    }
   ],
   "source": [
    "fpr,tpr,_ = metrics.roc_curve(y_val,y_pred)\n",
    "plt.plot(fpr,tpr)\n",
    "plt.plot([0,1],[0,1])\n",
    "plt.title(f\"roc curve for verification classifier \\n auc = {metrics.roc_auc_score(y_val,y_pred):.3f}\")\n",
    "plt.grid(\"on\")"
   ]
  },
  {
   "cell_type": "code",
   "execution_count": 161,
   "id": "8aa6788b",
   "metadata": {
    "pycharm": {
     "name": "#%%\n"
    }
   },
   "outputs": [
    {
     "data": {
      "text/plain": [
       "Text(0.5, 1.0, 'Confusion Matrix')"
      ]
     },
     "execution_count": 161,
     "metadata": {},
     "output_type": "execute_result"
    },
    {
     "data": {
      "image/png": "[encoded data removed]",
      "text/plain": [
       "<Figure size 432x288 with 2 Axes>"
      ]
     },
     "metadata": {
      "needs_background": "light"
     },
     "output_type": "display_data"
    }
   ],
   "source": [
    "import seaborn as sns\n",
    "sns.heatmap(metrics.confusion_matrix(y_val,y_pred),annot=True)\n",
    "plt.title(\"Confusion Matrix\")"
   ]
  },
  {
   "cell_type": "code",
   "execution_count": null,
   "id": "a41835cc",
   "metadata": {
    "pycharm": {
     "name": "#%%\n"
    }
   },
   "outputs": [],
   "source": []
  }
 ],
 "metadata": {
  "kernelspec": {
   "display_name": "Python 3 (ipykernel)",
   "language": "python",
   "name": "python3"
  },
  "language_info": {
   "codemirror_mode": {
    "name": "ipython",
    "version": 3
   },
   "file_extension": ".py",
   "mimetype": "text/x-python",
   "name": "python",
   "nbconvert_exporter": "python",
   "pygments_lexer": "ipython3",
   "version": "3.9.7"
  }
 },
 "nbformat": 4,
 "nbformat_minor": 5
}