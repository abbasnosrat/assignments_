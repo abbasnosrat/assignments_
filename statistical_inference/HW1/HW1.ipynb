{
 "cells": [
  {
   "cell_type": "markdown",
   "id": "fa975106-ef3f-41fc-bf7e-32cfec16a885",
   "metadata": {
    "tags": []
   },
   "source": [
    "# 8"
   ]
  },
  {
   "cell_type": "code",
   "execution_count": 1,
   "id": "6b7268b1-1f8d-4880-825e-fea9cd8b2de8",
   "metadata": {},
   "outputs": [
    {
     "data": {
      "text/html": [
       "<style>\n",
       ".list-inline {list-style: none; margin:0; padding: 0}\n",
       ".list-inline>li {display: inline-block}\n",
       ".list-inline>li:not(:last-child)::after {content: \"\\00b7\"; padding: 0 .5ex}\n",
       "</style>\n",
       "<ol class=list-inline><li>57</li><li>66</li><li>72</li><li>78</li><li>79</li><li>79</li><li>81</li><li>81</li><li>82</li><li>83</li><li>84</li><li>87</li><li>88</li><li>88</li><li>89</li><li>90</li><li>91</li><li>92</li><li>94</li><li>95</li></ol>\n"
      ],
      "text/latex": [
       "\\begin{enumerate*}\n",
       "\\item 57\n",
       "\\item 66\n",
       "\\item 72\n",
       "\\item 78\n",
       "\\item 79\n",
       "\\item 79\n",
       "\\item 81\n",
       "\\item 81\n",
       "\\item 82\n",
       "\\item 83\n",
       "\\item 84\n",
       "\\item 87\n",
       "\\item 88\n",
       "\\item 88\n",
       "\\item 89\n",
       "\\item 90\n",
       "\\item 91\n",
       "\\item 92\n",
       "\\item 94\n",
       "\\item 95\n",
       "\\end{enumerate*}\n"
      ],
      "text/markdown": [
       "1. 57\n",
       "2. 66\n",
       "3. 72\n",
       "4. 78\n",
       "5. 79\n",
       "6. 79\n",
       "7. 81\n",
       "8. 81\n",
       "9. 82\n",
       "10. 83\n",
       "11. 84\n",
       "12. 87\n",
       "13. 88\n",
       "14. 88\n",
       "15. 89\n",
       "16. 90\n",
       "17. 91\n",
       "18. 92\n",
       "19. 94\n",
       "20. 95\n",
       "\n",
       "\n"
      ],
      "text/plain": [
       " [1] 57 66 72 78 79 79 81 81 82 83 84 87 88 88 89 90 91 92 94 95"
      ]
     },
     "metadata": {},
     "output_type": "display_data"
    },
    {
     "name": "stdout",
     "output_type": "stream",
     "text": [
      "[1] \"mean\"\n"
     ]
    },
    {
     "data": {
      "text/html": [
       "82.8"
      ],
      "text/latex": [
       "82.8"
      ],
      "text/markdown": [
       "82.8"
      ],
      "text/plain": [
       "[1] 82.8"
      ]
     },
     "metadata": {},
     "output_type": "display_data"
    },
    {
     "name": "stdout",
     "output_type": "stream",
     "text": [
      "[1] \"median\"\n"
     ]
    },
    {
     "data": {
      "text/html": [
       "83.5"
      ],
      "text/latex": [
       "83.5"
      ],
      "text/markdown": [
       "83.5"
      ],
      "text/plain": [
       "[1] 83.5"
      ]
     },
     "metadata": {},
     "output_type": "display_data"
    },
    {
     "name": "stdout",
     "output_type": "stream",
     "text": [
      "[1] \"variance\"\n"
     ]
    },
    {
     "data": {
      "text/html": [
       "90.1684210526316"
      ],
      "text/latex": [
       "90.1684210526316"
      ],
      "text/markdown": [
       "90.1684210526316"
      ],
      "text/plain": [
       "[1] 90.16842"
      ]
     },
     "metadata": {},
     "output_type": "display_data"
    },
    {
     "name": "stdout",
     "output_type": "stream",
     "text": [
      "[1] \"standard div\"\n"
     ]
    },
    {
     "data": {
      "text/html": [
       "9.49570540047613"
      ],
      "text/latex": [
       "9.49570540047613"
      ],
      "text/markdown": [
       "9.49570540047613"
      ],
      "text/plain": [
       "[1] 9.495705"
      ]
     },
     "metadata": {},
     "output_type": "display_data"
    }
   ],
   "source": [
    "scores=c(57,66,72,78,79,79,81,81,82,83,84,87,88,88,89,90,91,92,94,95)\n",
    "scores\n",
    "print('mean')\n",
    "mean(scores)\n",
    "print('median')\n",
    "median(scores)\n",
    "print(\"variance\")\n",
    "var(scores)\n",
    "print(\"standard div\")\n",
    "sd(scores)"
   ]
  },
  {
   "cell_type": "code",
   "execution_count": 2,
   "id": "9a4d23b2-2698-4246-bc22-ea5f31f859aa",
   "metadata": {},
   "outputs": [
    {
     "name": "stdout",
     "output_type": "stream",
     "text": [
      "[1] \"mode\"\n"
     ]
    },
    {
     "data": {
      "text/html": [
       "79"
      ],
      "text/latex": [
       "79"
      ],
      "text/markdown": [
       "79"
      ],
      "text/plain": [
       "[1] 79"
      ]
     },
     "metadata": {},
     "output_type": "display_data"
    }
   ],
   "source": [
    "getmode <- function(v){\n",
    "    uni <- unique(v)\n",
    "    \n",
    "    uni[which.max(tabulate(match(v,uni)))]\n",
    "    }\n",
    "print('mode')\n",
    "getmode(scores)"
   ]
  },
  {
   "cell_type": "code",
   "execution_count": 3,
   "id": "a48d81e8-b856-44cb-a620-50e3f4dae02e",
   "metadata": {},
   "outputs": [
    {
     "data": {
      "text/html": [
       "<strong>2.5%:</strong> 61.275"
      ],
      "text/latex": [
       "\\textbf{2.5\\textbackslash{}\\%:} 61.275"
      ],
      "text/markdown": [
       "**2.5%:** 61.275"
      ],
      "text/plain": [
       "  2.5% \n",
       "61.275 "
      ]
     },
     "metadata": {},
     "output_type": "display_data"
    }
   ],
   "source": [
    "lower_bound=quantile(scores,0.025)\n",
    "lower_bound"
   ]
  },
  {
   "cell_type": "code",
   "execution_count": 4,
   "id": "8d81dafb-382d-4ec9-80a4-d549b4c0bbb3",
   "metadata": {},
   "outputs": [
    {
     "data": {
      "text/html": [
       "<strong>97.5%:</strong> 94.525"
      ],
      "text/latex": [
       "\\textbf{97.5\\textbackslash{}\\%:} 94.525"
      ],
      "text/markdown": [
       "**97.5%:** 94.525"
      ],
      "text/plain": [
       " 97.5% \n",
       "94.525 "
      ]
     },
     "metadata": {},
     "output_type": "display_data"
    }
   ],
   "source": [
    "upper_bound=quantile(scores,0.975)\n",
    "upper_bound"
   ]
  },
  {
   "cell_type": "code",
   "execution_count": 5,
   "id": "96643723-30ab-42e3-8a16-05951cc36e7f",
   "metadata": {},
   "outputs": [
    {
     "data": {
      "text/html": [
       "<style>\n",
       ".list-inline {list-style: none; margin:0; padding: 0}\n",
       ".list-inline>li {display: inline-block}\n",
       ".list-inline>li:not(:last-child)::after {content: \"\\00b7\"; padding: 0 .5ex}\n",
       "</style>\n",
       "<ol class=list-inline><li>57</li><li>95</li></ol>\n"
      ],
      "text/latex": [
       "\\begin{enumerate*}\n",
       "\\item 57\n",
       "\\item 95\n",
       "\\end{enumerate*}\n"
      ],
      "text/markdown": [
       "1. 57\n",
       "2. 95\n",
       "\n",
       "\n"
      ],
      "text/plain": [
       "[1] 57 95"
      ]
     },
     "metadata": {},
     "output_type": "display_data"
    }
   ],
   "source": [
    "outlier_ind=which(scores<lower_bound |scores>upper_bound)\n",
    "scores[outlier_ind]"
   ]
  },
  {
   "cell_type": "code",
   "execution_count": 6,
   "id": "16c9df5e-98c5-4143-aa58-65b98aeb42ee",
   "metadata": {},
   "outputs": [
    {
     "data": {
      "image/png": "[encoded data removed]",
      "text/plain": [
       "plot without title"
      ]
     },
     "metadata": {
      "image/png": {
       "height": 420,
       "width": 420
      }
     },
     "output_type": "display_data"
    }
   ],
   "source": [
    "boxplot(scores)"
   ]
  },
  {
   "cell_type": "code",
   "execution_count": 7,
   "id": "aaa6eaab-aa39-422c-bb88-ce47c3474016",
   "metadata": {},
   "outputs": [
    {
     "data": {
      "image/png": "[encoded data removed]",
      "text/plain": [
       "Plot with title “Histogram with Normal Curve”"
      ]
     },
     "metadata": {
      "image/png": {
       "height": 420,
       "width": 420
      }
     },
     "output_type": "display_data"
    }
   ],
   "source": [
    "h<-hist(scores, breaks=10, col=\"blue\",\n",
    "   main=\"Histogram with Normal Curve\")\n",
    "xfit<-seq(min(scores),max(scores),length=90)\n",
    "yfit<-dnorm(xfit,mean=mean(scores),sd=sd(scores))\n",
    "\n",
    "lines(xfit, 120*yfit, col=\"red\", lwd=2) "
   ]
  },
  {
   "cell_type": "markdown",
   "id": "01904cf4",
   "metadata": {},
   "source": [
    "# 9"
   ]
  },
  {
   "cell_type": "code",
   "execution_count": 8,
   "id": "7aa38830",
   "metadata": {},
   "outputs": [
    {
     "data": {
      "text/html": [
       "<table class=\"dataframe\">\n",
       "<caption>A data.frame: 5873 × 10</caption>\n",
       "<thead>\n",
       "\t<tr><th scope=col>imdb_ID</th><th scope=col>title</th><th scope=col>year</th><th scope=col>duration</th><th scope=col>total_votes</th><th scope=col>budget</th><th scope=col>USA_gross_income</th><th scope=col>worldwide_gross_income</th><th scope=col>tomatometer_status</th><th scope=col>audience_rating</th></tr>\n",
       "\t<tr><th scope=col>&lt;chr&gt;</th><th scope=col>&lt;chr&gt;</th><th scope=col>&lt;int&gt;</th><th scope=col>&lt;int&gt;</th><th scope=col>&lt;int&gt;</th><th scope=col>&lt;dbl&gt;</th><th scope=col>&lt;dbl&gt;</th><th scope=col>&lt;dbl&gt;</th><th scope=col>&lt;chr&gt;</th><th scope=col>&lt;dbl&gt;</th></tr>\n",
       "</thead>\n",
       "<tbody>\n",
       "\t<tr><td>tt0814255</td><td>Percy Jackson &amp; the Olympians: The Lightning Thief</td><td>2010</td><td>118</td><td>174198</td><td>95000000</td><td>88768303</td><td>226497209</td><td><span style=white-space:pre-wrap>Rotten         </span></td><td>53</td></tr>\n",
       "\t<tr><td>tt0878835</td><td>Please Give                                       </td><td>2010</td><td> 87</td><td> 10928</td><td> 3000000</td><td> 4033574</td><td>  4313829</td><td>Certified-Fresh</td><td>64</td></tr>\n",
       "\t<tr><td>tt0343996</td><td>The Lost City                                     </td><td>2005</td><td>144</td><td>  9122</td><td> 9600000</td><td> 2484186</td><td>  4408011</td><td>Rotten         </td><td>64</td></tr>\n",
       "\t<tr><td>tt0356443</td><td>The Bridge of San Luis Rey                        </td><td>2004</td><td>120</td><td>  3325</td><td>24000000</td><td>   49981</td><td>  1910546</td><td>Rotten         </td><td>35</td></tr>\n",
       "\t<tr><td>tt0112454</td><td>Bandwagon                                         </td><td>1996</td><td>103</td><td>   609</td><td>17000000</td><td>   44544</td><td>    44544</td><td>Fresh          </td><td>91</td></tr>\n",
       "\t<tr><td>tt0364120</td><td>Wild Side                                         </td><td>2004</td><td> 93</td><td>   970</td><td>17000000</td><td>   15355</td><td>    15355</td><td>Fresh          </td><td>80</td></tr>\n",
       "\t<tr><td>tt0105681</td><td>Ultraviolet                                       </td><td>1992</td><td> 80</td><td>   137</td><td>17000000</td><td> 9051951</td><td> 10371451</td><td>Rotten         </td><td>30</td></tr>\n",
       "\t<tr><td>tt0388230</td><td>Malevolence                                       </td><td>2004</td><td> 90</td><td>  3070</td><td>  200000</td><td>  127287</td><td>   258782</td><td>Rotten         </td><td>83</td></tr>\n",
       "\t<tr><td>tt0382019</td><td>Eternal                                           </td><td>2004</td><td>107</td><td>  1272</td><td>17000000</td><td>   28089</td><td>    28089</td><td>Rotten         </td><td>39</td></tr>\n",
       "\t<tr><td>tt0397103</td><td>Smile                                             </td><td>2005</td><td>107</td><td>   918</td><td>17000000</td><td>   32833</td><td>    32833</td><td>Rotten         </td><td>66</td></tr>\n",
       "\t<tr><td>tt0384488</td><td>Saint Ralph                                       </td><td>2004</td><td> 98</td><td>  5826</td><td> 4740000</td><td>  489389</td><td>  1881975</td><td>Fresh          </td><td>85</td></tr>\n",
       "\t<tr><td>tt0401244</td><td>The Baxter                                        </td><td>2005</td><td> 91</td><td>  4569</td><td>17000000</td><td>  181872</td><td>   181872</td><td>Rotten         </td><td>75</td></tr>\n",
       "\t<tr><td>tt0291928</td><td>G                                                 </td><td>2002</td><td> 97</td><td>   653</td><td>17000000</td><td> 3020784</td><td>  3020784</td><td>Rotten         </td><td>60</td></tr>\n",
       "\t<tr><td>tt0480507</td><td>Alexander the Great                               </td><td>2006</td><td> 80</td><td>   205</td><td>17000000</td><td> 9051951</td><td> 10371451</td><td>Rotten         </td><td>42</td></tr>\n",
       "\t<tr><td>tt0418004</td><td>Neverwas                                          </td><td>2005</td><td>103</td><td>  6426</td><td>17000000</td><td> 9051951</td><td>    11246</td><td>Rotten         </td><td>65</td></tr>\n",
       "\t<tr><td>tt0429068</td><td>The Second Chance                                 </td><td>2006</td><td>102</td><td>  1243</td><td> 1200000</td><td>  463542</td><td>   463542</td><td>Rotten         </td><td>78</td></tr>\n",
       "\t<tr><td>tt0392908</td><td>When Do We Eat?                                   </td><td>2005</td><td> 86</td><td>  1392</td><td>17000000</td><td>  431513</td><td>   431513</td><td>Rotten         </td><td>68</td></tr>\n",
       "\t<tr><td>tt0424287</td><td>The Mostly Unfabulous Social Life of Ethan Green  </td><td>2005</td><td> 88</td><td>  1952</td><td>17000000</td><td>  153122</td><td>   153122</td><td>Rotten         </td><td>58</td></tr>\n",
       "\t<tr><td>tt0135398</td><td>Dirty                                             </td><td>1998</td><td> 94</td><td>   129</td><td>17000000</td><td> 9051951</td><td> 10371451</td><td>Rotten         </td><td>42</td></tr>\n",
       "\t<tr><td>tt0441796</td><td>Stay Alive                                        </td><td>2006</td><td> 85</td><td> 29958</td><td> 7000000</td><td>23086480</td><td> 27298695</td><td>Rotten         </td><td>55</td></tr>\n",
       "\t<tr><td>tt0405676</td><td>All the King's Men                                </td><td>2006</td><td>128</td><td> 23404</td><td>55000000</td><td> 7221458</td><td>  9451623</td><td>Certified-Fresh</td><td>78</td></tr>\n",
       "\t<tr><td>tt0436607</td><td>The Motel                                         </td><td>2005</td><td> 75</td><td>  1278</td><td>17000000</td><td>   51540</td><td>    51540</td><td>Fresh          </td><td>64</td></tr>\n",
       "\t<tr><td>tt0123240</td><td>Requiem                                           </td><td>1998</td><td>100</td><td>   152</td><td>  117810</td><td> 9051951</td><td> 10371451</td><td>Fresh          </td><td>66</td></tr>\n",
       "\t<tr><td>tt0469519</td><td>Park                                              </td><td>2006</td><td> 86</td><td>  1157</td><td>17000000</td><td> 9051951</td><td> 10371451</td><td>Rotten         </td><td>48</td></tr>\n",
       "\t<tr><td>tt0780461</td><td>The 4th Dimension                                 </td><td>2006</td><td> 82</td><td>   176</td><td>   75000</td><td> 9051951</td><td> 10371451</td><td>Fresh          </td><td>31</td></tr>\n",
       "\t<tr><td>tt0479647</td><td>Bon Cop, Bad Cop                                  </td><td>2006</td><td>117</td><td> 11812</td><td> 6320000</td><td>12665721</td><td> 12735126</td><td>Fresh          </td><td>82</td></tr>\n",
       "\t<tr><td>tt0468548</td><td>The Situation                                     </td><td>2006</td><td>111</td><td>   802</td><td> 1000000</td><td>   48896</td><td>    48896</td><td>Rotten         </td><td>58</td></tr>\n",
       "\t<tr><td>tt0893331</td><td>Four Sheets to the Wind                           </td><td>2007</td><td> 81</td><td>   533</td><td>17000000</td><td> 9051951</td><td> 10371451</td><td>Fresh          </td><td>61</td></tr>\n",
       "\t<tr><td>tt0490499</td><td>The Tiger's Tail                                  </td><td>2006</td><td>107</td><td>  1248</td><td>17000000</td><td> 9051951</td><td> 10371451</td><td>Rotten         </td><td>30</td></tr>\n",
       "\t<tr><td>tt0482527</td><td>It's a Boy Girl Thing                             </td><td>2006</td><td> 95</td><td> 38783</td><td>15500000</td><td>     848</td><td>  7385679</td><td>Fresh          </td><td>61</td></tr>\n",
       "\t<tr><td>⋮</td><td>⋮</td><td>⋮</td><td>⋮</td><td>⋮</td><td>⋮</td><td>⋮</td><td>⋮</td><td>⋮</td><td>⋮</td></tr>\n",
       "\t<tr><td>tt1625346</td><td>Young Adult                     </td><td>2011</td><td> 94</td><td> 79125</td><td>12000000</td><td> 16311571</td><td> 22939027</td><td>Certified-Fresh</td><td>49</td></tr>\n",
       "\t<tr><td>tt0318850</td><td>The Young Black Stallion        </td><td>2003</td><td> 50</td><td>  1018</td><td>17000000</td><td>  6751389</td><td>  9645304</td><td>Rotten         </td><td>68</td></tr>\n",
       "\t<tr><td>tt0962736</td><td>The Young Victoria              </td><td>2009</td><td>105</td><td> 56756</td><td>35000000</td><td> 11001272</td><td> 29196409</td><td>Certified-Fresh</td><td>74</td></tr>\n",
       "\t<tr><td>tt1240982</td><td>Your Highness                   </td><td>2011</td><td>102</td><td> 95806</td><td>49900000</td><td> 21596445</td><td> 28013733</td><td>Rotten         </td><td>34</td></tr>\n",
       "\t<tr><td>tt1742336</td><td>Your Sister's Sister            </td><td>2011</td><td> 90</td><td> 25829</td><td>  125000</td><td>  1636190</td><td>  3242802</td><td>Certified-Fresh</td><td>66</td></tr>\n",
       "\t<tr><td>tt1853739</td><td>You're Next                     </td><td>2011</td><td> 95</td><td> 85735</td><td> 1000000</td><td> 18494006</td><td> 26895481</td><td>Certified-Fresh</td><td>60</td></tr>\n",
       "\t<tr><td>tt0443295</td><td><span style=white-space:pre-wrap>Yours, Mine &amp; Ours              </span></td><td>2005</td><td> 88</td><td> 26343</td><td>45000000</td><td> 53412862</td><td> 72662923</td><td><span style=white-space:pre-wrap>Rotten         </span></td><td>51</td></tr>\n",
       "\t<tr><td>tt2326107</td><td>Youth                           </td><td>2002</td><td>170</td><td>   582</td><td>17000000</td><td>  9051951</td><td> 10371451</td><td>Certified-Fresh</td><td>69</td></tr>\n",
       "\t<tr><td>tt0403702</td><td>Youth in Revolt                 </td><td>2009</td><td> 90</td><td> 71895</td><td>18000000</td><td> 15281286</td><td> 19651093</td><td>Fresh          </td><td>52</td></tr>\n",
       "\t<tr><td>tt0481797</td><td>Youth Without Youth             </td><td>2007</td><td>124</td><td> 12836</td><td> 5000000</td><td>   244397</td><td>  2624759</td><td>Rotten         </td><td>44</td></tr>\n",
       "\t<tr><td>tt0128853</td><td>You've Got Mail                 </td><td>1998</td><td>119</td><td>190193</td><td>65000000</td><td>115821495</td><td>250821495</td><td>Fresh          </td><td>73</td></tr>\n",
       "\t<tr><td>tt1488181</td><td>Zambezia                        </td><td>2012</td><td> 83</td><td>  6598</td><td>20000000</td><td>  9051951</td><td> 34428345</td><td>Rotten         </td><td>43</td></tr>\n",
       "\t<tr><td>tt2077908</td><td>Zarafa                          </td><td>2012</td><td> 78</td><td>  1518</td><td>17000000</td><td>  9051951</td><td> 12197574</td><td>Fresh          </td><td>65</td></tr>\n",
       "\t<tr><td>tt0406375</td><td>Zathura: A Space Adventure      </td><td>2005</td><td>101</td><td> 90965</td><td>65000000</td><td> 29258869</td><td> 65079104</td><td>Certified-Fresh</td><td>51</td></tr>\n",
       "\t<tr><td>tt2131698</td><td>Zaytoun                         </td><td>2012</td><td>110</td><td>  1540</td><td> 8000000</td><td>    42330</td><td>   177753</td><td>Rotten         </td><td>51</td></tr>\n",
       "\t<tr><td>tt0407337</td><td>Zen Noir                        </td><td>2004</td><td> 71</td><td>   332</td><td>17000000</td><td>  9051951</td><td> 10371451</td><td>Rotten         </td><td>68</td></tr>\n",
       "\t<tr><td>tt1363468</td><td>Zenith                          </td><td>2010</td><td> 93</td><td>   991</td><td>17000000</td><td>     7862</td><td>     7862</td><td>Rotten         </td><td>39</td></tr>\n",
       "\t<tr><td>tt1270494</td><td>Zero Bridge                     </td><td>2008</td><td> 96</td><td>   103</td><td>17000000</td><td>    10357</td><td>    10357</td><td>Fresh          </td><td>44</td></tr>\n",
       "\t<tr><td>tt1790885</td><td>Zero Dark Thirty                </td><td>2012</td><td>157</td><td>266498</td><td>40000000</td><td> 95720716</td><td>132820716</td><td>Certified-Fresh</td><td>80</td></tr>\n",
       "\t<tr><td>tt0120906</td><td>Zero Effect                     </td><td>1998</td><td>116</td><td> 13674</td><td> 5000000</td><td>  2087471</td><td>  2087471</td><td>Fresh          </td><td>77</td></tr>\n",
       "\t<tr><td>tt0421090</td><td>Zerophilia                      </td><td>2005</td><td> 90</td><td>  2229</td><td>  450000</td><td>     7763</td><td>     7763</td><td>Rotten         </td><td>61</td></tr>\n",
       "\t<tr><td>tt0120550</td><td>Zeus and Roxanne                </td><td>1997</td><td> 98</td><td>  2806</td><td>17000000</td><td>  7233324</td><td>  7233324</td><td>Rotten         </td><td>42</td></tr>\n",
       "\t<tr><td>tt1562872</td><td>Zindagi Na Milegi Dobara        </td><td>2011</td><td>155</td><td> 65749</td><td> 7150000</td><td>  3108485</td><td>  5192743</td><td>Fresh          </td><td>86</td></tr>\n",
       "\t<tr><td>tt0443706</td><td>Zodiac                          </td><td>2007</td><td>157</td><td>443791</td><td>65000000</td><td> 33080084</td><td> 84785914</td><td>Certified-Fresh</td><td>77</td></tr>\n",
       "\t<tr><td>tt1156398</td><td>Zombieland                      </td><td>2009</td><td> 88</td><td>510818</td><td>23600000</td><td> 75590286</td><td>102392080</td><td>Certified-Fresh</td><td>86</td></tr>\n",
       "\t<tr><td>tt1134674</td><td>ZMD: Zombies of Mass Destruction</td><td>2009</td><td> 89</td><td>  3975</td><td>  500000</td><td>  9051951</td><td> 10371451</td><td>Fresh          </td><td>34</td></tr>\n",
       "\t<tr><td>tt1014693</td><td>Zoo                             </td><td>2005</td><td>120</td><td>   489</td><td>17000000</td><td>  9051951</td><td> 10371451</td><td>Fresh          </td><td>62</td></tr>\n",
       "\t<tr><td>tt1222817</td><td>Zookeeper                       </td><td>2011</td><td>102</td><td> 56076</td><td>80000000</td><td> 80360843</td><td>169852759</td><td>Rotten         </td><td>41</td></tr>\n",
       "\t<tr><td>tt0196229</td><td>Zoolander                       </td><td>2001</td><td> 90</td><td>242549</td><td>28000000</td><td> 45172250</td><td> 60780981</td><td>Fresh          </td><td>80</td></tr>\n",
       "\t<tr><td>tt0383060</td><td>Zoom                            </td><td>2006</td><td> 93</td><td> 18613</td><td>35000000</td><td> 11989328</td><td> 12506362</td><td>Rotten         </td><td>33</td></tr>\n",
       "</tbody>\n",
       "</table>\n"
      ],
      "text/latex": [
       "A data.frame: 5873 × 10\n",
       "\\begin{tabular}{llllllllll}\n",
       " imdb\\_ID & title & year & duration & total\\_votes & budget & USA\\_gross\\_income & worldwide\\_gross\\_income & tomatometer\\_status & audience\\_rating\\\\\n",
       " <chr> & <chr> & <int> & <int> & <int> & <dbl> & <dbl> & <dbl> & <chr> & <dbl>\\\\\n",
       "\\hline\n",
       "\t tt0814255 & Percy Jackson \\& the Olympians: The Lightning Thief & 2010 & 118 & 174198 & 95000000 & 88768303 & 226497209 & Rotten          & 53\\\\\n",
       "\t tt0878835 & Please Give                                        & 2010 &  87 &  10928 &  3000000 &  4033574 &   4313829 & Certified-Fresh & 64\\\\\n",
       "\t tt0343996 & The Lost City                                      & 2005 & 144 &   9122 &  9600000 &  2484186 &   4408011 & Rotten          & 64\\\\\n",
       "\t tt0356443 & The Bridge of San Luis Rey                         & 2004 & 120 &   3325 & 24000000 &    49981 &   1910546 & Rotten          & 35\\\\\n",
       "\t tt0112454 & Bandwagon                                          & 1996 & 103 &    609 & 17000000 &    44544 &     44544 & Fresh           & 91\\\\\n",
       "\t tt0364120 & Wild Side                                          & 2004 &  93 &    970 & 17000000 &    15355 &     15355 & Fresh           & 80\\\\\n",
       "\t tt0105681 & Ultraviolet                                        & 1992 &  80 &    137 & 17000000 &  9051951 &  10371451 & Rotten          & 30\\\\\n",
       "\t tt0388230 & Malevolence                                        & 2004 &  90 &   3070 &   200000 &   127287 &    258782 & Rotten          & 83\\\\\n",
       "\t tt0382019 & Eternal                                            & 2004 & 107 &   1272 & 17000000 &    28089 &     28089 & Rotten          & 39\\\\\n",
       "\t tt0397103 & Smile                                              & 2005 & 107 &    918 & 17000000 &    32833 &     32833 & Rotten          & 66\\\\\n",
       "\t tt0384488 & Saint Ralph                                        & 2004 &  98 &   5826 &  4740000 &   489389 &   1881975 & Fresh           & 85\\\\\n",
       "\t tt0401244 & The Baxter                                         & 2005 &  91 &   4569 & 17000000 &   181872 &    181872 & Rotten          & 75\\\\\n",
       "\t tt0291928 & G                                                  & 2002 &  97 &    653 & 17000000 &  3020784 &   3020784 & Rotten          & 60\\\\\n",
       "\t tt0480507 & Alexander the Great                                & 2006 &  80 &    205 & 17000000 &  9051951 &  10371451 & Rotten          & 42\\\\\n",
       "\t tt0418004 & Neverwas                                           & 2005 & 103 &   6426 & 17000000 &  9051951 &     11246 & Rotten          & 65\\\\\n",
       "\t tt0429068 & The Second Chance                                  & 2006 & 102 &   1243 &  1200000 &   463542 &    463542 & Rotten          & 78\\\\\n",
       "\t tt0392908 & When Do We Eat?                                    & 2005 &  86 &   1392 & 17000000 &   431513 &    431513 & Rotten          & 68\\\\\n",
       "\t tt0424287 & The Mostly Unfabulous Social Life of Ethan Green   & 2005 &  88 &   1952 & 17000000 &   153122 &    153122 & Rotten          & 58\\\\\n",
       "\t tt0135398 & Dirty                                              & 1998 &  94 &    129 & 17000000 &  9051951 &  10371451 & Rotten          & 42\\\\\n",
       "\t tt0441796 & Stay Alive                                         & 2006 &  85 &  29958 &  7000000 & 23086480 &  27298695 & Rotten          & 55\\\\\n",
       "\t tt0405676 & All the King's Men                                 & 2006 & 128 &  23404 & 55000000 &  7221458 &   9451623 & Certified-Fresh & 78\\\\\n",
       "\t tt0436607 & The Motel                                          & 2005 &  75 &   1278 & 17000000 &    51540 &     51540 & Fresh           & 64\\\\\n",
       "\t tt0123240 & Requiem                                            & 1998 & 100 &    152 &   117810 &  9051951 &  10371451 & Fresh           & 66\\\\\n",
       "\t tt0469519 & Park                                               & 2006 &  86 &   1157 & 17000000 &  9051951 &  10371451 & Rotten          & 48\\\\\n",
       "\t tt0780461 & The 4th Dimension                                  & 2006 &  82 &    176 &    75000 &  9051951 &  10371451 & Fresh           & 31\\\\\n",
       "\t tt0479647 & Bon Cop, Bad Cop                                   & 2006 & 117 &  11812 &  6320000 & 12665721 &  12735126 & Fresh           & 82\\\\\n",
       "\t tt0468548 & The Situation                                      & 2006 & 111 &    802 &  1000000 &    48896 &     48896 & Rotten          & 58\\\\\n",
       "\t tt0893331 & Four Sheets to the Wind                            & 2007 &  81 &    533 & 17000000 &  9051951 &  10371451 & Fresh           & 61\\\\\n",
       "\t tt0490499 & The Tiger's Tail                                   & 2006 & 107 &   1248 & 17000000 &  9051951 &  10371451 & Rotten          & 30\\\\\n",
       "\t tt0482527 & It's a Boy Girl Thing                              & 2006 &  95 &  38783 & 15500000 &      848 &   7385679 & Fresh           & 61\\\\\n",
       "\t ⋮ & ⋮ & ⋮ & ⋮ & ⋮ & ⋮ & ⋮ & ⋮ & ⋮ & ⋮\\\\\n",
       "\t tt1625346 & Young Adult                      & 2011 &  94 &  79125 & 12000000 &  16311571 &  22939027 & Certified-Fresh & 49\\\\\n",
       "\t tt0318850 & The Young Black Stallion         & 2003 &  50 &   1018 & 17000000 &   6751389 &   9645304 & Rotten          & 68\\\\\n",
       "\t tt0962736 & The Young Victoria               & 2009 & 105 &  56756 & 35000000 &  11001272 &  29196409 & Certified-Fresh & 74\\\\\n",
       "\t tt1240982 & Your Highness                    & 2011 & 102 &  95806 & 49900000 &  21596445 &  28013733 & Rotten          & 34\\\\\n",
       "\t tt1742336 & Your Sister's Sister             & 2011 &  90 &  25829 &   125000 &   1636190 &   3242802 & Certified-Fresh & 66\\\\\n",
       "\t tt1853739 & You're Next                      & 2011 &  95 &  85735 &  1000000 &  18494006 &  26895481 & Certified-Fresh & 60\\\\\n",
       "\t tt0443295 & Yours, Mine \\& Ours               & 2005 &  88 &  26343 & 45000000 &  53412862 &  72662923 & Rotten          & 51\\\\\n",
       "\t tt2326107 & Youth                            & 2002 & 170 &    582 & 17000000 &   9051951 &  10371451 & Certified-Fresh & 69\\\\\n",
       "\t tt0403702 & Youth in Revolt                  & 2009 &  90 &  71895 & 18000000 &  15281286 &  19651093 & Fresh           & 52\\\\\n",
       "\t tt0481797 & Youth Without Youth              & 2007 & 124 &  12836 &  5000000 &    244397 &   2624759 & Rotten          & 44\\\\\n",
       "\t tt0128853 & You've Got Mail                  & 1998 & 119 & 190193 & 65000000 & 115821495 & 250821495 & Fresh           & 73\\\\\n",
       "\t tt1488181 & Zambezia                         & 2012 &  83 &   6598 & 20000000 &   9051951 &  34428345 & Rotten          & 43\\\\\n",
       "\t tt2077908 & Zarafa                           & 2012 &  78 &   1518 & 17000000 &   9051951 &  12197574 & Fresh           & 65\\\\\n",
       "\t tt0406375 & Zathura: A Space Adventure       & 2005 & 101 &  90965 & 65000000 &  29258869 &  65079104 & Certified-Fresh & 51\\\\\n",
       "\t tt2131698 & Zaytoun                          & 2012 & 110 &   1540 &  8000000 &     42330 &    177753 & Rotten          & 51\\\\\n",
       "\t tt0407337 & Zen Noir                         & 2004 &  71 &    332 & 17000000 &   9051951 &  10371451 & Rotten          & 68\\\\\n",
       "\t tt1363468 & Zenith                           & 2010 &  93 &    991 & 17000000 &      7862 &      7862 & Rotten          & 39\\\\\n",
       "\t tt1270494 & Zero Bridge                      & 2008 &  96 &    103 & 17000000 &     10357 &     10357 & Fresh           & 44\\\\\n",
       "\t tt1790885 & Zero Dark Thirty                 & 2012 & 157 & 266498 & 40000000 &  95720716 & 132820716 & Certified-Fresh & 80\\\\\n",
       "\t tt0120906 & Zero Effect                      & 1998 & 116 &  13674 &  5000000 &   2087471 &   2087471 & Fresh           & 77\\\\\n",
       "\t tt0421090 & Zerophilia                       & 2005 &  90 &   2229 &   450000 &      7763 &      7763 & Rotten          & 61\\\\\n",
       "\t tt0120550 & Zeus and Roxanne                 & 1997 &  98 &   2806 & 17000000 &   7233324 &   7233324 & Rotten          & 42\\\\\n",
       "\t tt1562872 & Zindagi Na Milegi Dobara         & 2011 & 155 &  65749 &  7150000 &   3108485 &   5192743 & Fresh           & 86\\\\\n",
       "\t tt0443706 & Zodiac                           & 2007 & 157 & 443791 & 65000000 &  33080084 &  84785914 & Certified-Fresh & 77\\\\\n",
       "\t tt1156398 & Zombieland                       & 2009 &  88 & 510818 & 23600000 &  75590286 & 102392080 & Certified-Fresh & 86\\\\\n",
       "\t tt1134674 & ZMD: Zombies of Mass Destruction & 2009 &  89 &   3975 &   500000 &   9051951 &  10371451 & Fresh           & 34\\\\\n",
       "\t tt1014693 & Zoo                              & 2005 & 120 &    489 & 17000000 &   9051951 &  10371451 & Fresh           & 62\\\\\n",
       "\t tt1222817 & Zookeeper                        & 2011 & 102 &  56076 & 80000000 &  80360843 & 169852759 & Rotten          & 41\\\\\n",
       "\t tt0196229 & Zoolander                        & 2001 &  90 & 242549 & 28000000 &  45172250 &  60780981 & Fresh           & 80\\\\\n",
       "\t tt0383060 & Zoom                             & 2006 &  93 &  18613 & 35000000 &  11989328 &  12506362 & Rotten          & 33\\\\\n",
       "\\end{tabular}\n"
      ],
      "text/markdown": [
       "\n",
       "A data.frame: 5873 × 10\n",
       "\n",
       "| imdb_ID &lt;chr&gt; | title &lt;chr&gt; | year &lt;int&gt; | duration &lt;int&gt; | total_votes &lt;int&gt; | budget &lt;dbl&gt; | USA_gross_income &lt;dbl&gt; | worldwide_gross_income &lt;dbl&gt; | tomatometer_status &lt;chr&gt; | audience_rating &lt;dbl&gt; |\n",
       "|---|---|---|---|---|---|---|---|---|---|\n",
       "| tt0814255 | Percy Jackson &amp; the Olympians: The Lightning Thief | 2010 | 118 | 174198 | 95000000 | 88768303 | 226497209 | Rotten          | 53 |\n",
       "| tt0878835 | Please Give                                        | 2010 |  87 |  10928 |  3000000 |  4033574 |   4313829 | Certified-Fresh | 64 |\n",
       "| tt0343996 | The Lost City                                      | 2005 | 144 |   9122 |  9600000 |  2484186 |   4408011 | Rotten          | 64 |\n",
       "| tt0356443 | The Bridge of San Luis Rey                         | 2004 | 120 |   3325 | 24000000 |    49981 |   1910546 | Rotten          | 35 |\n",
       "| tt0112454 | Bandwagon                                          | 1996 | 103 |    609 | 17000000 |    44544 |     44544 | Fresh           | 91 |\n",
       "| tt0364120 | Wild Side                                          | 2004 |  93 |    970 | 17000000 |    15355 |     15355 | Fresh           | 80 |\n",
       "| tt0105681 | Ultraviolet                                        | 1992 |  80 |    137 | 17000000 |  9051951 |  10371451 | Rotten          | 30 |\n",
       "| tt0388230 | Malevolence                                        | 2004 |  90 |   3070 |   200000 |   127287 |    258782 | Rotten          | 83 |\n",
       "| tt0382019 | Eternal                                            | 2004 | 107 |   1272 | 17000000 |    28089 |     28089 | Rotten          | 39 |\n",
       "| tt0397103 | Smile                                              | 2005 | 107 |    918 | 17000000 |    32833 |     32833 | Rotten          | 66 |\n",
       "| tt0384488 | Saint Ralph                                        | 2004 |  98 |   5826 |  4740000 |   489389 |   1881975 | Fresh           | 85 |\n",
       "| tt0401244 | The Baxter                                         | 2005 |  91 |   4569 | 17000000 |   181872 |    181872 | Rotten          | 75 |\n",
       "| tt0291928 | G                                                  | 2002 |  97 |    653 | 17000000 |  3020784 |   3020784 | Rotten          | 60 |\n",
       "| tt0480507 | Alexander the Great                                | 2006 |  80 |    205 | 17000000 |  9051951 |  10371451 | Rotten          | 42 |\n",
       "| tt0418004 | Neverwas                                           | 2005 | 103 |   6426 | 17000000 |  9051951 |     11246 | Rotten          | 65 |\n",
       "| tt0429068 | The Second Chance                                  | 2006 | 102 |   1243 |  1200000 |   463542 |    463542 | Rotten          | 78 |\n",
       "| tt0392908 | When Do We Eat?                                    | 2005 |  86 |   1392 | 17000000 |   431513 |    431513 | Rotten          | 68 |\n",
       "| tt0424287 | The Mostly Unfabulous Social Life of Ethan Green   | 2005 |  88 |   1952 | 17000000 |   153122 |    153122 | Rotten          | 58 |\n",
       "| tt0135398 | Dirty                                              | 1998 |  94 |    129 | 17000000 |  9051951 |  10371451 | Rotten          | 42 |\n",
       "| tt0441796 | Stay Alive                                         | 2006 |  85 |  29958 |  7000000 | 23086480 |  27298695 | Rotten          | 55 |\n",
       "| tt0405676 | All the King's Men                                 | 2006 | 128 |  23404 | 55000000 |  7221458 |   9451623 | Certified-Fresh | 78 |\n",
       "| tt0436607 | The Motel                                          | 2005 |  75 |   1278 | 17000000 |    51540 |     51540 | Fresh           | 64 |\n",
       "| tt0123240 | Requiem                                            | 1998 | 100 |    152 |   117810 |  9051951 |  10371451 | Fresh           | 66 |\n",
       "| tt0469519 | Park                                               | 2006 |  86 |   1157 | 17000000 |  9051951 |  10371451 | Rotten          | 48 |\n",
       "| tt0780461 | The 4th Dimension                                  | 2006 |  82 |    176 |    75000 |  9051951 |  10371451 | Fresh           | 31 |\n",
       "| tt0479647 | Bon Cop, Bad Cop                                   | 2006 | 117 |  11812 |  6320000 | 12665721 |  12735126 | Fresh           | 82 |\n",
       "| tt0468548 | The Situation                                      | 2006 | 111 |    802 |  1000000 |    48896 |     48896 | Rotten          | 58 |\n",
       "| tt0893331 | Four Sheets to the Wind                            | 2007 |  81 |    533 | 17000000 |  9051951 |  10371451 | Fresh           | 61 |\n",
       "| tt0490499 | The Tiger's Tail                                   | 2006 | 107 |   1248 | 17000000 |  9051951 |  10371451 | Rotten          | 30 |\n",
       "| tt0482527 | It's a Boy Girl Thing                              | 2006 |  95 |  38783 | 15500000 |      848 |   7385679 | Fresh           | 61 |\n",
       "| ⋮ | ⋮ | ⋮ | ⋮ | ⋮ | ⋮ | ⋮ | ⋮ | ⋮ | ⋮ |\n",
       "| tt1625346 | Young Adult                      | 2011 |  94 |  79125 | 12000000 |  16311571 |  22939027 | Certified-Fresh | 49 |\n",
       "| tt0318850 | The Young Black Stallion         | 2003 |  50 |   1018 | 17000000 |   6751389 |   9645304 | Rotten          | 68 |\n",
       "| tt0962736 | The Young Victoria               | 2009 | 105 |  56756 | 35000000 |  11001272 |  29196409 | Certified-Fresh | 74 |\n",
       "| tt1240982 | Your Highness                    | 2011 | 102 |  95806 | 49900000 |  21596445 |  28013733 | Rotten          | 34 |\n",
       "| tt1742336 | Your Sister's Sister             | 2011 |  90 |  25829 |   125000 |   1636190 |   3242802 | Certified-Fresh | 66 |\n",
       "| tt1853739 | You're Next                      | 2011 |  95 |  85735 |  1000000 |  18494006 |  26895481 | Certified-Fresh | 60 |\n",
       "| tt0443295 | Yours, Mine &amp; Ours               | 2005 |  88 |  26343 | 45000000 |  53412862 |  72662923 | Rotten          | 51 |\n",
       "| tt2326107 | Youth                            | 2002 | 170 |    582 | 17000000 |   9051951 |  10371451 | Certified-Fresh | 69 |\n",
       "| tt0403702 | Youth in Revolt                  | 2009 |  90 |  71895 | 18000000 |  15281286 |  19651093 | Fresh           | 52 |\n",
       "| tt0481797 | Youth Without Youth              | 2007 | 124 |  12836 |  5000000 |    244397 |   2624759 | Rotten          | 44 |\n",
       "| tt0128853 | You've Got Mail                  | 1998 | 119 | 190193 | 65000000 | 115821495 | 250821495 | Fresh           | 73 |\n",
       "| tt1488181 | Zambezia                         | 2012 |  83 |   6598 | 20000000 |   9051951 |  34428345 | Rotten          | 43 |\n",
       "| tt2077908 | Zarafa                           | 2012 |  78 |   1518 | 17000000 |   9051951 |  12197574 | Fresh           | 65 |\n",
       "| tt0406375 | Zathura: A Space Adventure       | 2005 | 101 |  90965 | 65000000 |  29258869 |  65079104 | Certified-Fresh | 51 |\n",
       "| tt2131698 | Zaytoun                          | 2012 | 110 |   1540 |  8000000 |     42330 |    177753 | Rotten          | 51 |\n",
       "| tt0407337 | Zen Noir                         | 2004 |  71 |    332 | 17000000 |   9051951 |  10371451 | Rotten          | 68 |\n",
       "| tt1363468 | Zenith                           | 2010 |  93 |    991 | 17000000 |      7862 |      7862 | Rotten          | 39 |\n",
       "| tt1270494 | Zero Bridge                      | 2008 |  96 |    103 | 17000000 |     10357 |     10357 | Fresh           | 44 |\n",
       "| tt1790885 | Zero Dark Thirty                 | 2012 | 157 | 266498 | 40000000 |  95720716 | 132820716 | Certified-Fresh | 80 |\n",
       "| tt0120906 | Zero Effect                      | 1998 | 116 |  13674 |  5000000 |   2087471 |   2087471 | Fresh           | 77 |\n",
       "| tt0421090 | Zerophilia                       | 2005 |  90 |   2229 |   450000 |      7763 |      7763 | Rotten          | 61 |\n",
       "| tt0120550 | Zeus and Roxanne                 | 1997 |  98 |   2806 | 17000000 |   7233324 |   7233324 | Rotten          | 42 |\n",
       "| tt1562872 | Zindagi Na Milegi Dobara         | 2011 | 155 |  65749 |  7150000 |   3108485 |   5192743 | Fresh           | 86 |\n",
       "| tt0443706 | Zodiac                           | 2007 | 157 | 443791 | 65000000 |  33080084 |  84785914 | Certified-Fresh | 77 |\n",
       "| tt1156398 | Zombieland                       | 2009 |  88 | 510818 | 23600000 |  75590286 | 102392080 | Certified-Fresh | 86 |\n",
       "| tt1134674 | ZMD: Zombies of Mass Destruction | 2009 |  89 |   3975 |   500000 |   9051951 |  10371451 | Fresh           | 34 |\n",
       "| tt1014693 | Zoo                              | 2005 | 120 |    489 | 17000000 |   9051951 |  10371451 | Fresh           | 62 |\n",
       "| tt1222817 | Zookeeper                        | 2011 | 102 |  56076 | 80000000 |  80360843 | 169852759 | Rotten          | 41 |\n",
       "| tt0196229 | Zoolander                        | 2001 |  90 | 242549 | 28000000 |  45172250 |  60780981 | Fresh           | 80 |\n",
       "| tt0383060 | Zoom                             | 2006 |  93 |  18613 | 35000000 |  11989328 |  12506362 | Rotten          | 33 |\n",
       "\n"
      ],
      "text/plain": [
       "     imdb_ID   title                                              year duration\n",
       "1    tt0814255 Percy Jackson & the Olympians: The Lightning Thief 2010 118     \n",
       "2    tt0878835 Please Give                                        2010  87     \n",
       "3    tt0343996 The Lost City                                      2005 144     \n",
       "4    tt0356443 The Bridge of San Luis Rey                         2004 120     \n",
       "5    tt0112454 Bandwagon                                          1996 103     \n",
       "6    tt0364120 Wild Side                                          2004  93     \n",
       "7    tt0105681 Ultraviolet                                        1992  80     \n",
       "8    tt0388230 Malevolence                                        2004  90     \n",
       "9    tt0382019 Eternal                                            2004 107     \n",
       "10   tt0397103 Smile                                              2005 107     \n",
       "11   tt0384488 Saint Ralph                                        2004  98     \n",
       "12   tt0401244 The Baxter                                         2005  91     \n",
       "13   tt0291928 G                                                  2002  97     \n",
       "14   tt0480507 Alexander the Great                                2006  80     \n",
       "15   tt0418004 Neverwas                                           2005 103     \n",
       "16   tt0429068 The Second Chance                                  2006 102     \n",
       "17   tt0392908 When Do We Eat?                                    2005  86     \n",
       "18   tt0424287 The Mostly Unfabulous Social Life of Ethan Green   2005  88     \n",
       "19   tt0135398 Dirty                                              1998  94     \n",
       "20   tt0441796 Stay Alive                                         2006  85     \n",
       "21   tt0405676 All the King's Men                                 2006 128     \n",
       "22   tt0436607 The Motel                                          2005  75     \n",
       "23   tt0123240 Requiem                                            1998 100     \n",
       "24   tt0469519 Park                                               2006  86     \n",
       "25   tt0780461 The 4th Dimension                                  2006  82     \n",
       "26   tt0479647 Bon Cop, Bad Cop                                   2006 117     \n",
       "27   tt0468548 The Situation                                      2006 111     \n",
       "28   tt0893331 Four Sheets to the Wind                            2007  81     \n",
       "29   tt0490499 The Tiger's Tail                                   2006 107     \n",
       "30   tt0482527 It's a Boy Girl Thing                              2006  95     \n",
       "⋮    ⋮         ⋮                                                  ⋮    ⋮       \n",
       "5844 tt1625346 Young Adult                                        2011  94     \n",
       "5845 tt0318850 The Young Black Stallion                           2003  50     \n",
       "5846 tt0962736 The Young Victoria                                 2009 105     \n",
       "5847 tt1240982 Your Highness                                      2011 102     \n",
       "5848 tt1742336 Your Sister's Sister                               2011  90     \n",
       "5849 tt1853739 You're Next                                        2011  95     \n",
       "5850 tt0443295 Yours, Mine & Ours                                 2005  88     \n",
       "5851 tt2326107 Youth                                              2002 170     \n",
       "5852 tt0403702 Youth in Revolt                                    2009  90     \n",
       "5853 tt0481797 Youth Without Youth                                2007 124     \n",
       "5854 tt0128853 You've Got Mail                                    1998 119     \n",
       "5855 tt1488181 Zambezia                                           2012  83     \n",
       "5856 tt2077908 Zarafa                                             2012  78     \n",
       "5857 tt0406375 Zathura: A Space Adventure                         2005 101     \n",
       "5858 tt2131698 Zaytoun                                            2012 110     \n",
       "5859 tt0407337 Zen Noir                                           2004  71     \n",
       "5860 tt1363468 Zenith                                             2010  93     \n",
       "5861 tt1270494 Zero Bridge                                        2008  96     \n",
       "5862 tt1790885 Zero Dark Thirty                                   2012 157     \n",
       "5863 tt0120906 Zero Effect                                        1998 116     \n",
       "5864 tt0421090 Zerophilia                                         2005  90     \n",
       "5865 tt0120550 Zeus and Roxanne                                   1997  98     \n",
       "5866 tt1562872 Zindagi Na Milegi Dobara                           2011 155     \n",
       "5867 tt0443706 Zodiac                                             2007 157     \n",
       "5868 tt1156398 Zombieland                                         2009  88     \n",
       "5869 tt1134674 ZMD: Zombies of Mass Destruction                   2009  89     \n",
       "5870 tt1014693 Zoo                                                2005 120     \n",
       "5871 tt1222817 Zookeeper                                          2011 102     \n",
       "5872 tt0196229 Zoolander                                          2001  90     \n",
       "5873 tt0383060 Zoom                                               2006  93     \n",
       "     total_votes budget   USA_gross_income worldwide_gross_income\n",
       "1    174198      95000000 88768303         226497209             \n",
       "2     10928       3000000  4033574           4313829             \n",
       "3      9122       9600000  2484186           4408011             \n",
       "4      3325      24000000    49981           1910546             \n",
       "5       609      17000000    44544             44544             \n",
       "6       970      17000000    15355             15355             \n",
       "7       137      17000000  9051951          10371451             \n",
       "8      3070        200000   127287            258782             \n",
       "9      1272      17000000    28089             28089             \n",
       "10      918      17000000    32833             32833             \n",
       "11     5826       4740000   489389           1881975             \n",
       "12     4569      17000000   181872            181872             \n",
       "13      653      17000000  3020784           3020784             \n",
       "14      205      17000000  9051951          10371451             \n",
       "15     6426      17000000  9051951             11246             \n",
       "16     1243       1200000   463542            463542             \n",
       "17     1392      17000000   431513            431513             \n",
       "18     1952      17000000   153122            153122             \n",
       "19      129      17000000  9051951          10371451             \n",
       "20    29958       7000000 23086480          27298695             \n",
       "21    23404      55000000  7221458           9451623             \n",
       "22     1278      17000000    51540             51540             \n",
       "23      152        117810  9051951          10371451             \n",
       "24     1157      17000000  9051951          10371451             \n",
       "25      176         75000  9051951          10371451             \n",
       "26    11812       6320000 12665721          12735126             \n",
       "27      802       1000000    48896             48896             \n",
       "28      533      17000000  9051951          10371451             \n",
       "29     1248      17000000  9051951          10371451             \n",
       "30    38783      15500000      848           7385679             \n",
       "⋮    ⋮           ⋮        ⋮                ⋮                     \n",
       "5844  79125      12000000  16311571         22939027             \n",
       "5845   1018      17000000   6751389          9645304             \n",
       "5846  56756      35000000  11001272         29196409             \n",
       "5847  95806      49900000  21596445         28013733             \n",
       "5848  25829        125000   1636190          3242802             \n",
       "5849  85735       1000000  18494006         26895481             \n",
       "5850  26343      45000000  53412862         72662923             \n",
       "5851    582      17000000   9051951         10371451             \n",
       "5852  71895      18000000  15281286         19651093             \n",
       "5853  12836       5000000    244397          2624759             \n",
       "5854 190193      65000000 115821495        250821495             \n",
       "5855   6598      20000000   9051951         34428345             \n",
       "5856   1518      17000000   9051951         12197574             \n",
       "5857  90965      65000000  29258869         65079104             \n",
       "5858   1540       8000000     42330           177753             \n",
       "5859    332      17000000   9051951         10371451             \n",
       "5860    991      17000000      7862             7862             \n",
       "5861    103      17000000     10357            10357             \n",
       "5862 266498      40000000  95720716        132820716             \n",
       "5863  13674       5000000   2087471          2087471             \n",
       "5864   2229        450000      7763             7763             \n",
       "5865   2806      17000000   7233324          7233324             \n",
       "5866  65749       7150000   3108485          5192743             \n",
       "5867 443791      65000000  33080084         84785914             \n",
       "5868 510818      23600000  75590286        102392080             \n",
       "5869   3975        500000   9051951         10371451             \n",
       "5870    489      17000000   9051951         10371451             \n",
       "5871  56076      80000000  80360843        169852759             \n",
       "5872 242549      28000000  45172250         60780981             \n",
       "5873  18613      35000000  11989328         12506362             \n",
       "     tomatometer_status audience_rating\n",
       "1    Rotten             53             \n",
       "2    Certified-Fresh    64             \n",
       "3    Rotten             64             \n",
       "4    Rotten             35             \n",
       "5    Fresh              91             \n",
       "6    Fresh              80             \n",
       "7    Rotten             30             \n",
       "8    Rotten             83             \n",
       "9    Rotten             39             \n",
       "10   Rotten             66             \n",
       "11   Fresh              85             \n",
       "12   Rotten             75             \n",
       "13   Rotten             60             \n",
       "14   Rotten             42             \n",
       "15   Rotten             65             \n",
       "16   Rotten             78             \n",
       "17   Rotten             68             \n",
       "18   Rotten             58             \n",
       "19   Rotten             42             \n",
       "20   Rotten             55             \n",
       "21   Certified-Fresh    78             \n",
       "22   Fresh              64             \n",
       "23   Fresh              66             \n",
       "24   Rotten             48             \n",
       "25   Fresh              31             \n",
       "26   Fresh              82             \n",
       "27   Rotten             58             \n",
       "28   Fresh              61             \n",
       "29   Rotten             30             \n",
       "30   Fresh              61             \n",
       "⋮    ⋮                  ⋮              \n",
       "5844 Certified-Fresh    49             \n",
       "5845 Rotten             68             \n",
       "5846 Certified-Fresh    74             \n",
       "5847 Rotten             34             \n",
       "5848 Certified-Fresh    66             \n",
       "5849 Certified-Fresh    60             \n",
       "5850 Rotten             51             \n",
       "5851 Certified-Fresh    69             \n",
       "5852 Fresh              52             \n",
       "5853 Rotten             44             \n",
       "5854 Fresh              73             \n",
       "5855 Rotten             43             \n",
       "5856 Fresh              65             \n",
       "5857 Certified-Fresh    51             \n",
       "5858 Rotten             51             \n",
       "5859 Rotten             68             \n",
       "5860 Rotten             39             \n",
       "5861 Fresh              44             \n",
       "5862 Certified-Fresh    80             \n",
       "5863 Fresh              77             \n",
       "5864 Rotten             61             \n",
       "5865 Rotten             42             \n",
       "5866 Fresh              86             \n",
       "5867 Certified-Fresh    77             \n",
       "5868 Certified-Fresh    86             \n",
       "5869 Fresh              34             \n",
       "5870 Fresh              62             \n",
       "5871 Rotten             41             \n",
       "5872 Fresh              80             \n",
       "5873 Rotten             33             "
      ]
     },
     "metadata": {},
     "output_type": "display_data"
    }
   ],
   "source": [
    "df=read.csv('imdb.csv')\n",
    "df"
   ]
  },
  {
   "cell_type": "code",
   "execution_count": 9,
   "id": "20860c17",
   "metadata": {},
   "outputs": [
    {
     "data": {
      "image/png": "[encoded data removed]",
      "text/plain": [
       "Plot with title “number of movies per year”"
      ]
     },
     "metadata": {
      "image/png": {
       "height": 420,
       "width": 420
      }
     },
     "output_type": "display_data"
    }
   ],
   "source": [
    "plot(table(df$year),xlab = 'years',ylab = 'number of movies', main='number of movies per year')\n"
   ]
  },
  {
   "cell_type": "code",
   "execution_count": 10,
   "id": "e039992a",
   "metadata": {},
   "outputs": [
    {
     "data": {
      "image/png": "[encoded data removed]",
      "text/plain": [
       "Plot with title “Histogram of df$USA_gross_income”"
      ]
     },
     "metadata": {
      "image/png": {
       "height": 420,
       "width": 420
      }
     },
     "output_type": "display_data"
    }
   ],
   "source": [
    "hist(df$USA_gross_income)"
   ]
  },
  {
   "cell_type": "code",
   "execution_count": 11,
   "id": "a5d2fcb8",
   "metadata": {},
   "outputs": [
    {
     "data": {
      "image/png": "[encoded data removed]",
      "text/plain": [
       "Plot with title “movie duration”"
      ]
     },
     "metadata": {
      "image/png": {
       "height": 420,
       "width": 420
      }
     },
     "output_type": "display_data"
    }
   ],
   "source": [
    "boxplot(x = df$duration,ylab = 'duration',main='movie duration')\n"
   ]
  },
  {
   "cell_type": "code",
   "execution_count": 12,
   "id": "edf59119",
   "metadata": {},
   "outputs": [
    {
     "data": {
      "text/html": [
       "<style>\n",
       ".list-inline {list-style: none; margin:0; padding: 0}\n",
       ".list-inline>li {display: inline-block}\n",
       ".list-inline>li:not(:last-child)::after {content: \"\\00b7\"; padding: 0 .5ex}\n",
       "</style>\n",
       "<ol class=list-inline><li>'Rotten'</li><li>'Certified-Fresh'</li><li>'Fresh'</li></ol>\n"
      ],
      "text/latex": [
       "\\begin{enumerate*}\n",
       "\\item 'Rotten'\n",
       "\\item 'Certified-Fresh'\n",
       "\\item 'Fresh'\n",
       "\\end{enumerate*}\n"
      ],
      "text/markdown": [
       "1. 'Rotten'\n",
       "2. 'Certified-Fresh'\n",
       "3. 'Fresh'\n",
       "\n",
       "\n"
      ],
      "text/plain": [
       "[1] \"Rotten\"          \"Certified-Fresh\" \"Fresh\"          "
      ]
     },
     "metadata": {},
     "output_type": "display_data"
    }
   ],
   "source": [
    "uni=unique(df$tomatometer_status)\n",
    "uni"
   ]
  },
  {
   "cell_type": "code",
   "execution_count": 13,
   "id": "561a9351",
   "metadata": {},
   "outputs": [
    {
     "data": {
      "image/png": "[encoded data removed]",
      "text/plain": [
       "Plot with title “side by side box plot of duration per rotten tomato class”"
      ]
     },
     "metadata": {
      "image/png": {
       "height": 420,
       "width": 420
      }
     },
     "output_type": "display_data"
    }
   ],
   "source": [
    "boxplot(df['duration'][df['tomatometer_status']=='Rotten']\n",
    "    ,df['duration'][df['tomatometer_status']=='Certified-Fresh']\n",
    "    ,df['duration'][df['tomatometer_status']=='Fresh'],ylab = 'duration',xlab ='Class',xaxt=\"n\"\n",
    "    ,main='side by side box plot of duration per rotten tomato class' )\n",
    "xticks=c('Rotten','Certified-Fresh','Fresh')\n",
    "axis(side=1, at=c(1,2,3), labels = FALSE)\n",
    "text(x=c(1,2,3),  par(\"usr\")[3], \n",
    "     labels = xticks, srt = 0, pos = 1, xpd = TRUE)"
   ]
  },
  {
   "cell_type": "code",
   "execution_count": 14,
   "id": "b8bc32de",
   "metadata": {},
   "outputs": [
    {
     "name": "stdout",
     "output_type": "stream",
     "text": [
      "[1] \"Rotten\"\n"
     ]
    },
    {
     "data": {
      "text/html": [
       "<style>\n",
       ".list-inline {list-style: none; margin:0; padding: 0}\n",
       ".list-inline>li {display: inline-block}\n",
       ".list-inline>li:not(:last-child)::after {content: \"\\00b7\"; padding: 0 .5ex}\n",
       "</style>\n",
       "<ol class=list-inline><li>144</li><li>165</li><li>48</li><li>74</li><li>140</li><li>191</li><li>76</li><li>148</li><li>183</li><li>137</li><li>75</li><li>138</li><li>153</li><li>140</li><li>154</li><li>158</li><li>76</li><li>164</li><li>157</li><li>137</li><li>175</li><li>145</li><li>162</li><li>151</li><li>67</li><li>75</li><li>165</li><li>163</li><li>147</li><li>78</li><li>76</li><li>79</li><li>172</li><li>159</li><li>79</li><li>78</li><li>79</li><li>151</li><li>76</li><li>138</li><li>137</li><li>74</li><li>143</li><li>74</li><li>149</li><li>77</li><li>77</li><li>72</li><li>142</li><li>147</li><li>75</li><li>79</li><li>77</li><li>77</li><li>79</li><li>78</li><li>140</li><li>140</li><li>73</li><li>137</li><li>175</li><li>79</li><li>219</li><li>167</li><li>78</li><li>76</li><li>140</li><li>76</li><li>145</li><li>78</li><li>137</li><li>150</li><li>139</li><li>138</li><li>72</li><li>193</li><li>157</li><li>144</li><li>76</li><li>139</li><li>76</li><li>152</li><li>146</li><li>139</li><li>161</li><li>178</li><li>145</li><li>155</li><li>146</li><li>78</li><li>160</li><li>79</li><li>74</li><li>71</li><li>74</li><li>75</li><li>70</li><li>74</li><li>79</li><li>141</li><li>147</li><li>143</li><li>151</li><li>137</li><li>177</li><li>73</li><li>163</li><li>165</li><li>72</li><li>140</li><li>142</li><li>79</li><li>145</li><li>146</li><li>78</li><li>73</li><li>60</li><li>145</li><li>146</li><li>142</li><li>151</li><li>153</li><li>75</li><li>76</li><li>71</li><li>75</li><li>141</li><li>73</li><li>79</li><li>76</li><li>78</li><li>139</li><li>140</li><li>72</li><li>78</li><li>154</li><li>149</li><li>144</li><li>78</li><li>163</li><li>75</li><li>141</li><li>72</li><li>50</li><li>71</li></ol>\n"
      ],
      "text/latex": [
       "\\begin{enumerate*}\n",
       "\\item 144\n",
       "\\item 165\n",
       "\\item 48\n",
       "\\item 74\n",
       "\\item 140\n",
       "\\item 191\n",
       "\\item 76\n",
       "\\item 148\n",
       "\\item 183\n",
       "\\item 137\n",
       "\\item 75\n",
       "\\item 138\n",
       "\\item 153\n",
       "\\item 140\n",
       "\\item 154\n",
       "\\item 158\n",
       "\\item 76\n",
       "\\item 164\n",
       "\\item 157\n",
       "\\item 137\n",
       "\\item 175\n",
       "\\item 145\n",
       "\\item 162\n",
       "\\item 151\n",
       "\\item 67\n",
       "\\item 75\n",
       "\\item 165\n",
       "\\item 163\n",
       "\\item 147\n",
       "\\item 78\n",
       "\\item 76\n",
       "\\item 79\n",
       "\\item 172\n",
       "\\item 159\n",
       "\\item 79\n",
       "\\item 78\n",
       "\\item 79\n",
       "\\item 151\n",
       "\\item 76\n",
       "\\item 138\n",
       "\\item 137\n",
       "\\item 74\n",
       "\\item 143\n",
       "\\item 74\n",
       "\\item 149\n",
       "\\item 77\n",
       "\\item 77\n",
       "\\item 72\n",
       "\\item 142\n",
       "\\item 147\n",
       "\\item 75\n",
       "\\item 79\n",
       "\\item 77\n",
       "\\item 77\n",
       "\\item 79\n",
       "\\item 78\n",
       "\\item 140\n",
       "\\item 140\n",
       "\\item 73\n",
       "\\item 137\n",
       "\\item 175\n",
       "\\item 79\n",
       "\\item 219\n",
       "\\item 167\n",
       "\\item 78\n",
       "\\item 76\n",
       "\\item 140\n",
       "\\item 76\n",
       "\\item 145\n",
       "\\item 78\n",
       "\\item 137\n",
       "\\item 150\n",
       "\\item 139\n",
       "\\item 138\n",
       "\\item 72\n",
       "\\item 193\n",
       "\\item 157\n",
       "\\item 144\n",
       "\\item 76\n",
       "\\item 139\n",
       "\\item 76\n",
       "\\item 152\n",
       "\\item 146\n",
       "\\item 139\n",
       "\\item 161\n",
       "\\item 178\n",
       "\\item 145\n",
       "\\item 155\n",
       "\\item 146\n",
       "\\item 78\n",
       "\\item 160\n",
       "\\item 79\n",
       "\\item 74\n",
       "\\item 71\n",
       "\\item 74\n",
       "\\item 75\n",
       "\\item 70\n",
       "\\item 74\n",
       "\\item 79\n",
       "\\item 141\n",
       "\\item 147\n",
       "\\item 143\n",
       "\\item 151\n",
       "\\item 137\n",
       "\\item 177\n",
       "\\item 73\n",
       "\\item 163\n",
       "\\item 165\n",
       "\\item 72\n",
       "\\item 140\n",
       "\\item 142\n",
       "\\item 79\n",
       "\\item 145\n",
       "\\item 146\n",
       "\\item 78\n",
       "\\item 73\n",
       "\\item 60\n",
       "\\item 145\n",
       "\\item 146\n",
       "\\item 142\n",
       "\\item 151\n",
       "\\item 153\n",
       "\\item 75\n",
       "\\item 76\n",
       "\\item 71\n",
       "\\item 75\n",
       "\\item 141\n",
       "\\item 73\n",
       "\\item 79\n",
       "\\item 76\n",
       "\\item 78\n",
       "\\item 139\n",
       "\\item 140\n",
       "\\item 72\n",
       "\\item 78\n",
       "\\item 154\n",
       "\\item 149\n",
       "\\item 144\n",
       "\\item 78\n",
       "\\item 163\n",
       "\\item 75\n",
       "\\item 141\n",
       "\\item 72\n",
       "\\item 50\n",
       "\\item 71\n",
       "\\end{enumerate*}\n"
      ],
      "text/markdown": [
       "1. 144\n",
       "2. 165\n",
       "3. 48\n",
       "4. 74\n",
       "5. 140\n",
       "6. 191\n",
       "7. 76\n",
       "8. 148\n",
       "9. 183\n",
       "10. 137\n",
       "11. 75\n",
       "12. 138\n",
       "13. 153\n",
       "14. 140\n",
       "15. 154\n",
       "16. 158\n",
       "17. 76\n",
       "18. 164\n",
       "19. 157\n",
       "20. 137\n",
       "21. 175\n",
       "22. 145\n",
       "23. 162\n",
       "24. 151\n",
       "25. 67\n",
       "26. 75\n",
       "27. 165\n",
       "28. 163\n",
       "29. 147\n",
       "30. 78\n",
       "31. 76\n",
       "32. 79\n",
       "33. 172\n",
       "34. 159\n",
       "35. 79\n",
       "36. 78\n",
       "37. 79\n",
       "38. 151\n",
       "39. 76\n",
       "40. 138\n",
       "41. 137\n",
       "42. 74\n",
       "43. 143\n",
       "44. 74\n",
       "45. 149\n",
       "46. 77\n",
       "47. 77\n",
       "48. 72\n",
       "49. 142\n",
       "50. 147\n",
       "51. 75\n",
       "52. 79\n",
       "53. 77\n",
       "54. 77\n",
       "55. 79\n",
       "56. 78\n",
       "57. 140\n",
       "58. 140\n",
       "59. 73\n",
       "60. 137\n",
       "61. 175\n",
       "62. 79\n",
       "63. 219\n",
       "64. 167\n",
       "65. 78\n",
       "66. 76\n",
       "67. 140\n",
       "68. 76\n",
       "69. 145\n",
       "70. 78\n",
       "71. 137\n",
       "72. 150\n",
       "73. 139\n",
       "74. 138\n",
       "75. 72\n",
       "76. 193\n",
       "77. 157\n",
       "78. 144\n",
       "79. 76\n",
       "80. 139\n",
       "81. 76\n",
       "82. 152\n",
       "83. 146\n",
       "84. 139\n",
       "85. 161\n",
       "86. 178\n",
       "87. 145\n",
       "88. 155\n",
       "89. 146\n",
       "90. 78\n",
       "91. 160\n",
       "92. 79\n",
       "93. 74\n",
       "94. 71\n",
       "95. 74\n",
       "96. 75\n",
       "97. 70\n",
       "98. 74\n",
       "99. 79\n",
       "100. 141\n",
       "101. 147\n",
       "102. 143\n",
       "103. 151\n",
       "104. 137\n",
       "105. 177\n",
       "106. 73\n",
       "107. 163\n",
       "108. 165\n",
       "109. 72\n",
       "110. 140\n",
       "111. 142\n",
       "112. 79\n",
       "113. 145\n",
       "114. 146\n",
       "115. 78\n",
       "116. 73\n",
       "117. 60\n",
       "118. 145\n",
       "119. 146\n",
       "120. 142\n",
       "121. 151\n",
       "122. 153\n",
       "123. 75\n",
       "124. 76\n",
       "125. 71\n",
       "126. 75\n",
       "127. 141\n",
       "128. 73\n",
       "129. 79\n",
       "130. 76\n",
       "131. 78\n",
       "132. 139\n",
       "133. 140\n",
       "134. 72\n",
       "135. 78\n",
       "136. 154\n",
       "137. 149\n",
       "138. 144\n",
       "139. 78\n",
       "140. 163\n",
       "141. 75\n",
       "142. 141\n",
       "143. 72\n",
       "144. 50\n",
       "145. 71\n",
       "\n",
       "\n"
      ],
      "text/plain": [
       "  [1] 144 165  48  74 140 191  76 148 183 137  75 138 153 140 154 158  76 164\n",
       " [19] 157 137 175 145 162 151  67  75 165 163 147  78  76  79 172 159  79  78\n",
       " [37]  79 151  76 138 137  74 143  74 149  77  77  72 142 147  75  79  77  77\n",
       " [55]  79  78 140 140  73 137 175  79 219 167  78  76 140  76 145  78 137 150\n",
       " [73] 139 138  72 193 157 144  76 139  76 152 146 139 161 178 145 155 146  78\n",
       " [91] 160  79  74  71  74  75  70  74  79 141 147 143 151 137 177  73 163 165\n",
       "[109]  72 140 142  79 145 146  78  73  60 145 146 142 151 153  75  76  71  75\n",
       "[127] 141  73  79  76  78 139 140  72  78 154 149 144  78 163  75 141  72  50\n",
       "[145]  71"
      ]
     },
     "metadata": {},
     "output_type": "display_data"
    },
    {
     "name": "stdout",
     "output_type": "stream",
     "text": [
      "[1] \"Certified-Fresh\"\n"
     ]
    },
    {
     "data": {
      "text/html": [
       "<style>\n",
       ".list-inline {list-style: none; margin:0; padding: 0}\n",
       ".list-inline>li {display: inline-block}\n",
       ".list-inline>li:not(:last-child)::after {content: \"\\00b7\"; padding: 0 .5ex}\n",
       "</style>\n",
       "<ol class=list-inline><li>78</li><li>202</li><li>77</li><li>178</li><li>178</li><li>170</li><li>170</li><li>78</li><li>73</li><li>78</li><li>170</li><li>58</li><li>166</li><li>78</li><li>165</li><li>78</li><li>75</li><li>167</li><li>189</li><li>187</li><li>224</li><li>168</li><li>188</li><li>75</li><li>450</li><li>164</li><li>73</li><li>76</li><li>192</li><li>76</li><li>59</li><li>75</li><li>68</li><li>75</li><li>169</li><li>195</li><li>77</li><li>71</li><li>77</li><li>181</li><li>78</li><li>73</li><li>71</li><li>63</li><li>164</li><li>178</li><li>201</li><li>179</li><li>194</li><li>78</li><li>60</li><li>63</li><li>170</li></ol>\n"
      ],
      "text/latex": [
       "\\begin{enumerate*}\n",
       "\\item 78\n",
       "\\item 202\n",
       "\\item 77\n",
       "\\item 178\n",
       "\\item 178\n",
       "\\item 170\n",
       "\\item 170\n",
       "\\item 78\n",
       "\\item 73\n",
       "\\item 78\n",
       "\\item 170\n",
       "\\item 58\n",
       "\\item 166\n",
       "\\item 78\n",
       "\\item 165\n",
       "\\item 78\n",
       "\\item 75\n",
       "\\item 167\n",
       "\\item 189\n",
       "\\item 187\n",
       "\\item 224\n",
       "\\item 168\n",
       "\\item 188\n",
       "\\item 75\n",
       "\\item 450\n",
       "\\item 164\n",
       "\\item 73\n",
       "\\item 76\n",
       "\\item 192\n",
       "\\item 76\n",
       "\\item 59\n",
       "\\item 75\n",
       "\\item 68\n",
       "\\item 75\n",
       "\\item 169\n",
       "\\item 195\n",
       "\\item 77\n",
       "\\item 71\n",
       "\\item 77\n",
       "\\item 181\n",
       "\\item 78\n",
       "\\item 73\n",
       "\\item 71\n",
       "\\item 63\n",
       "\\item 164\n",
       "\\item 178\n",
       "\\item 201\n",
       "\\item 179\n",
       "\\item 194\n",
       "\\item 78\n",
       "\\item 60\n",
       "\\item 63\n",
       "\\item 170\n",
       "\\end{enumerate*}\n"
      ],
      "text/markdown": [
       "1. 78\n",
       "2. 202\n",
       "3. 77\n",
       "4. 178\n",
       "5. 178\n",
       "6. 170\n",
       "7. 170\n",
       "8. 78\n",
       "9. 73\n",
       "10. 78\n",
       "11. 170\n",
       "12. 58\n",
       "13. 166\n",
       "14. 78\n",
       "15. 165\n",
       "16. 78\n",
       "17. 75\n",
       "18. 167\n",
       "19. 189\n",
       "20. 187\n",
       "21. 224\n",
       "22. 168\n",
       "23. 188\n",
       "24. 75\n",
       "25. 450\n",
       "26. 164\n",
       "27. 73\n",
       "28. 76\n",
       "29. 192\n",
       "30. 76\n",
       "31. 59\n",
       "32. 75\n",
       "33. 68\n",
       "34. 75\n",
       "35. 169\n",
       "36. 195\n",
       "37. 77\n",
       "38. 71\n",
       "39. 77\n",
       "40. 181\n",
       "41. 78\n",
       "42. 73\n",
       "43. 71\n",
       "44. 63\n",
       "45. 164\n",
       "46. 178\n",
       "47. 201\n",
       "48. 179\n",
       "49. 194\n",
       "50. 78\n",
       "51. 60\n",
       "52. 63\n",
       "53. 170\n",
       "\n",
       "\n"
      ],
      "text/plain": [
       " [1]  78 202  77 178 178 170 170  78  73  78 170  58 166  78 165  78  75 167 189\n",
       "[20] 187 224 168 188  75 450 164  73  76 192  76  59  75  68  75 169 195  77  71\n",
       "[39]  77 181  78  73  71  63 164 178 201 179 194  78  60  63 170"
      ]
     },
     "metadata": {},
     "output_type": "display_data"
    },
    {
     "name": "stdout",
     "output_type": "stream",
     "text": [
      "[1] \"Fresh\"\n"
     ]
    },
    {
     "data": {
      "text/html": [
       "<style>\n",
       ".list-inline {list-style: none; margin:0; padding: 0}\n",
       ".list-inline>li {display: inline-block}\n",
       ".list-inline>li:not(:last-child)::after {content: \"\\00b7\"; padding: 0 .5ex}\n",
       "</style>\n",
       "<ol class=list-inline><li>75</li><li>48</li><li>271</li><li>170</li><li>185</li><li>75</li><li>168</li><li>158</li><li>75</li><li>76</li><li>72</li><li>157</li><li>72</li><li>176</li><li>152</li><li>151</li><li>76</li><li>71</li><li>155</li><li>170</li><li>75</li><li>172</li><li>154</li><li>72</li><li>74</li><li>69</li><li>75</li><li>75</li><li>160</li><li>70</li><li>242</li><li>169</li><li>169</li><li>160</li><li>198</li><li>168</li><li>213</li><li>75</li><li>75</li><li>185</li><li>154</li><li>156</li><li>60</li><li>165</li><li>162</li><li>168</li><li>76</li><li>159</li><li>162</li><li>75</li><li>75</li><li>76</li><li>74</li><li>76</li><li>169</li><li>198</li><li>76</li><li>72</li><li>47</li><li>192</li><li>162</li><li>65</li><li>76</li><li>162</li><li>76</li><li>155</li></ol>\n"
      ],
      "text/latex": [
       "\\begin{enumerate*}\n",
       "\\item 75\n",
       "\\item 48\n",
       "\\item 271\n",
       "\\item 170\n",
       "\\item 185\n",
       "\\item 75\n",
       "\\item 168\n",
       "\\item 158\n",
       "\\item 75\n",
       "\\item 76\n",
       "\\item 72\n",
       "\\item 157\n",
       "\\item 72\n",
       "\\item 176\n",
       "\\item 152\n",
       "\\item 151\n",
       "\\item 76\n",
       "\\item 71\n",
       "\\item 155\n",
       "\\item 170\n",
       "\\item 75\n",
       "\\item 172\n",
       "\\item 154\n",
       "\\item 72\n",
       "\\item 74\n",
       "\\item 69\n",
       "\\item 75\n",
       "\\item 75\n",
       "\\item 160\n",
       "\\item 70\n",
       "\\item 242\n",
       "\\item 169\n",
       "\\item 169\n",
       "\\item 160\n",
       "\\item 198\n",
       "\\item 168\n",
       "\\item 213\n",
       "\\item 75\n",
       "\\item 75\n",
       "\\item 185\n",
       "\\item 154\n",
       "\\item 156\n",
       "\\item 60\n",
       "\\item 165\n",
       "\\item 162\n",
       "\\item 168\n",
       "\\item 76\n",
       "\\item 159\n",
       "\\item 162\n",
       "\\item 75\n",
       "\\item 75\n",
       "\\item 76\n",
       "\\item 74\n",
       "\\item 76\n",
       "\\item 169\n",
       "\\item 198\n",
       "\\item 76\n",
       "\\item 72\n",
       "\\item 47\n",
       "\\item 192\n",
       "\\item 162\n",
       "\\item 65\n",
       "\\item 76\n",
       "\\item 162\n",
       "\\item 76\n",
       "\\item 155\n",
       "\\end{enumerate*}\n"
      ],
      "text/markdown": [
       "1. 75\n",
       "2. 48\n",
       "3. 271\n",
       "4. 170\n",
       "5. 185\n",
       "6. 75\n",
       "7. 168\n",
       "8. 158\n",
       "9. 75\n",
       "10. 76\n",
       "11. 72\n",
       "12. 157\n",
       "13. 72\n",
       "14. 176\n",
       "15. 152\n",
       "16. 151\n",
       "17. 76\n",
       "18. 71\n",
       "19. 155\n",
       "20. 170\n",
       "21. 75\n",
       "22. 172\n",
       "23. 154\n",
       "24. 72\n",
       "25. 74\n",
       "26. 69\n",
       "27. 75\n",
       "28. 75\n",
       "29. 160\n",
       "30. 70\n",
       "31. 242\n",
       "32. 169\n",
       "33. 169\n",
       "34. 160\n",
       "35. 198\n",
       "36. 168\n",
       "37. 213\n",
       "38. 75\n",
       "39. 75\n",
       "40. 185\n",
       "41. 154\n",
       "42. 156\n",
       "43. 60\n",
       "44. 165\n",
       "45. 162\n",
       "46. 168\n",
       "47. 76\n",
       "48. 159\n",
       "49. 162\n",
       "50. 75\n",
       "51. 75\n",
       "52. 76\n",
       "53. 74\n",
       "54. 76\n",
       "55. 169\n",
       "56. 198\n",
       "57. 76\n",
       "58. 72\n",
       "59. 47\n",
       "60. 192\n",
       "61. 162\n",
       "62. 65\n",
       "63. 76\n",
       "64. 162\n",
       "65. 76\n",
       "66. 155\n",
       "\n",
       "\n"
      ],
      "text/plain": [
       " [1]  75  48 271 170 185  75 168 158  75  76  72 157  72 176 152 151  76  71 155\n",
       "[20] 170  75 172 154  72  74  69  75  75 160  70 242 169 169 160 198 168 213  75\n",
       "[39]  75 185 154 156  60 165 162 168  76 159 162  75  75  76  74  76 169 198  76\n",
       "[58]  72  47 192 162  65  76 162  76 155"
      ]
     },
     "metadata": {},
     "output_type": "display_data"
    }
   ],
   "source": [
    "print('Rotten')\n",
    "x=df['duration'][df['tomatometer_status']=='Rotten']\n",
    "lower_bound=quantile(x,0.025)\n",
    "upper_bound=quantile(x,0.975)\n",
    "outlier_ind=which(x<lower_bound |x>upper_bound)\n",
    "x[outlier_ind]\n",
    "\n",
    "print('Certified-Fresh')\n",
    "x=df['duration'][df['tomatometer_status']=='Certified-Fresh']\n",
    "lower_bound=quantile(x,0.025)\n",
    "upper_bound=quantile(x,0.975)\n",
    "outlier_ind=which(x<lower_bound |x>upper_bound)\n",
    "x[outlier_ind]\n",
    "\n",
    "print('Fresh')\n",
    "x=df['duration'][df['tomatometer_status']=='Fresh']\n",
    "lower_bound=quantile(x,0.025)\n",
    "upper_bound=quantile(x,0.975)\n",
    "outlier_ind=which(x<lower_bound |x>upper_bound)\n",
    "x[outlier_ind]\n",
    "\n",
    "\n"
   ]
  },
  {
   "cell_type": "code",
   "execution_count": 19,
   "id": "c362f0a5",
   "metadata": {},
   "outputs": [
    {
     "data": {
      "text/html": [
       "<style>\n",
       ".list-inline {list-style: none; margin:0; padding: 0}\n",
       ".list-inline>li {display: inline-block}\n",
       ".list-inline>li:not(:last-child)::after {content: \"\\00b7\"; padding: 0 .5ex}\n",
       "</style>\n",
       "<ol class=list-inline><li>0.26578073089701</li><li>3.85382059800664</li><li>89.3355481727575</li><li>6.54485049833887</li></ol>\n"
      ],
      "text/latex": [
       "\\begin{enumerate*}\n",
       "\\item 0.26578073089701\n",
       "\\item 3.85382059800664\n",
       "\\item 89.3355481727575\n",
       "\\item 6.54485049833887\n",
       "\\end{enumerate*}\n"
      ],
      "text/markdown": [
       "1. 0.26578073089701\n",
       "2. 3.85382059800664\n",
       "3. 89.3355481727575\n",
       "4. 6.54485049833887\n",
       "\n",
       "\n"
      ],
      "text/plain": [
       "[1]  0.2657807  3.8538206 89.3355482  6.5448505"
      ]
     },
     "metadata": {},
     "output_type": "display_data"
    },
    {
     "data": {
      "image/png": "[encoded data removed]",
      "text/plain": [
       "Plot with title “pie chart of movie duration”"
      ]
     },
     "metadata": {
      "image/png": {
       "height": 420,
       "width": 420
      }
     },
     "output_type": "display_data"
    }
   ],
   "source": [
    "vals=c(sum(df$duration>200),sum(df$duration<=200 &df$duration>150),sum(df$duration<=150 &df$duration>100),sum(df$duration<=80))\n",
    "labs =vals*100/sum(vals)\n",
    "labels = c('very long','long','standard','short')\n",
    "labs\n",
    "\n",
    "p=pie(vals,labs,main='pie chart of movie duration',col=c('red','green','blue','yellow'))\n",
    "legend('topleft',legend = c('very long','long','standard','short'),fill = c('red','green','blue','yellow'),col=c('red','green','blue','yellow'))"
   ]
  },
  {
   "cell_type": "code",
   "execution_count": 16,
   "id": "8898f07f",
   "metadata": {},
   "outputs": [
    {
     "data": {
      "image/png": "[encoded data removed]",
      "text/plain": [
       "Plot with title “worldwide_gross_income per USA_gross_income”"
      ]
     },
     "metadata": {
      "image/png": {
       "height": 420,
       "width": 420
      }
     },
     "output_type": "display_data"
    }
   ],
   "source": [
    "plot(df$USA_gross_income,df$worldwide_gross_income,main='worldwide_gross_income per USA_gross_income')"
   ]
  }
 ],
 "metadata": {
  "kernelspec": {
   "display_name": "R",
   "language": "R",
   "name": "ir"
  },
  "language_info": {
   "codemirror_mode": "r",
   "file_extension": ".r",
   "mimetype": "text/x-r-source",
   "name": "R",
   "pygments_lexer": "r",
   "version": "4.0.4"
  }
 },
 "nbformat": 4,
 "nbformat_minor": 5
}
