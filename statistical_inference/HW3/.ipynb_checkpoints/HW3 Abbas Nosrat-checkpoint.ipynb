{
 "cells": [
  {
   "cell_type": "markdown",
   "id": "e4eedd74",
   "metadata": {},
   "source": [
    "1. \\,\n",
    "\n",
    "    (a) False. In the CLT we are looking for a confidence interval for the POPULA mean. \n",
    "\n",
    "    (b) False. Two sided test has a higher P value than one sided. \n",
    "\n",
    "    (c) False. If sample size is less than 30 CLT is not valid \n",
    "\n",
    "    (d) False. Skewness depends on mean and median and not on mode. Mode could be higher than mean. \n",
    "\n",
    "    (e) False. Higher confidence intervals result in higher areas. \n",
    "\n",
    "    (f) True. \n",
    "\n",
    "    (g) False. Both intervals have the same chance but and the sample size only effects the width of the area. \n",
    "\n",
    "    (h) True. \n",
    "\n",
    "    (i) True. \n",
    "\n",
    "    (j) False. The larger the difference is, the higher the power gets. Thus, beta decreases with increase in the difference\n",
    "\n",
    "    (k) False. Both errors can be commited to but there is a tradeoff between them. \n",
    "\n",
    "    (l) True. \n",
    "\n",
    "    (m) False. An infected person wrongly considered as healthy is more harmful for the society "
   ]
  },
  {
   "cell_type": "markdown",
   "id": "3842a90d",
   "metadata": {},
   "source": [
    "2. Let y be the tempreture and $$y\\sim norm(\\mu=37.1,\\sigma=0.5)$$\n",
    "\n"
   ]
  },
  {
   "cell_type": "markdown",
   "id": "dbab1456",
   "metadata": {},
   "source": [
    "(a)\n",
    "$$p(failure)=p(y\\leq38.2)=p(Z\\leq\\frac{38.2-37.1}{0.5})=p(z\\leq2.2)=0.986$$"
   ]
  },
  {
   "cell_type": "markdown",
   "id": "b9736ae2",
   "metadata": {},
   "source": [
    "(b)\n",
    "$$\\mu=37.16,\\sigma=\\frac{0.5}{\\sqrt{5}}=0.22\\\\p(y\\leq36)=p(z\\leq\\frac{36-37.1}{0.22})\\approx0$$"
   ]
  },
  {
   "cell_type": "markdown",
   "id": "b726e906",
   "metadata": {},
   "source": [
    "(c) Assuming the information given in part (b)"
   ]
  },
  {
   "cell_type": "code",
   "execution_count": 13,
   "id": "d6df6081",
   "metadata": {},
   "outputs": [],
   "source": [
    "ps=c()\n",
    "for (n in seq(from = 1, to = 50, by =2))\n",
    "{\n",
    "    ps=c(ps,pnorm(36,37.1,0.5/sqrt(n)))\n",
    "}"
   ]
  },
  {
   "cell_type": "code",
   "execution_count": 14,
   "id": "2c2039ef",
   "metadata": {},
   "outputs": [
    {
     "data": {
      "image/png": "[encoded data removed]",
      "text/plain": [
       "plot without title"
      ]
     },
     "metadata": {
      "image/png": {
       "height": 420,
       "width": 420
      }
     },
     "output_type": "display_data"
    }
   ],
   "source": [
    "plot(ps)"
   ]
  },
  {
   "cell_type": "markdown",
   "id": "9d4c827e",
   "metadata": {},
   "source": [
    "3.\n",
    "Since the random variable is $$\\sum_{1}^{10}X_{i}$$, then the population mean is $$E(\\sum_{1}^{10}X_{i})=\\sum_{1}^{10}E(X_{i})$$ and the variance is $$\\sum_{1}^{10}Var(X_{i})$$. Hence $$\\mu=10\\times3.5 and \\sigma=\\sqrt{10\\times35}=18.7$$"
   ]
  },
  {
   "cell_type": "markdown",
   "id": "049524c4",
   "metadata": {},
   "source": [
    "4. By evaluating Z for each distribution, the probability of 45F can be estimated qualitivly.\n",
    "$$z_{jul}=\\frac{45-72}{6}=-4.5,\\:z_{jan}=\\frac{45-38}{12}=0.58\\\\|z_{jul}|\\gg z_{jan}{\\Longrightarrow}p(45^{o}F|jul)\\ll p(45^{o}F|jan)$$"
   ]
  },
  {
   "cell_type": "markdown",
   "id": "de05e812",
   "metadata": {},
   "source": [
    "5. In z domain, the 98% confidence interval is [-2.32,2.32]. To convert z to x.\n",
    "\n",
    "$$z=\\frac{x-\\mu}{\\frac{\\sigma}{\\sqrt{n}}}\\Longrightarrow x=\\frac{\\sigma z}{\\sqrt{n}}+\\mu$$\n",
    "$$\\sigma=5\\Longrightarrow\\frac{21.55}{\\sqrt{n}}+\\mu-\\frac{-21.55}{\\sqrt{n}}-\\mu=2$$\n",
    "$$\\Longrightarrow\\frac{2\\times21.55}{\\sqrt{n}}=2\\Rightarrow n=21.55^{2}\\approx465$$"
   ]
  },
  {
   "cell_type": "markdown",
   "id": "00468ab1",
   "metadata": {},
   "source": [
    "6. \n",
    "(a)\n",
    "$$95\\%C.I\\Rightarrow[-1.96,1.96]\\overset{x=\\frac{\\sigma z}{\\sqrt{n}}+\\mu}{\\Longrightarrow}[12.33,15.66]$$\n",
    "\n",
    "(b)\n",
    "$$p(\\geq16)+p(x\\leq12)=p(z\\geq\\frac{16-14}{0.85})+p(z\\leq\\frac{12-14}{0.85})=0.0093+0.0093=0.018$$\n",
    "(c) $$ H_{0}:\\mu=12.5,H_{A}:\\mu\\geq12.5$$\n",
    "$$p(x\\geq12.5|\\mu=12.5)=p(Z\\geq\\frac{14-12.5}{5/\\sqrt{45}})=p(z\\geq2.0124)=0.977$$\n",
    "$$ 1-p(z\\geq2.0124)=0.023\\leq0.05\\Longrightarrow H_0\\,is\\,rejected$$\n",
    "Resource upgrade is recommended."
   ]
  },
  {
   "cell_type": "markdown",
   "id": "b8128e32",
   "metadata": {},
   "source": [
    "7.\n",
    "$$\\bar{x}=\\frac{2\\times7+18\\times9+16\\times10+14\\times11}{50}=9.6,\\mu=11.5$$\n",
    "$$\\sigma=\\sqrt{\\frac{2\\times(7-11.5)^{2}+18\\times(9-11.5)^{2}+16\\times(10-11.5)^{2}+14\\times(11-11.5)^{2}}{50}}=1.96$$\n",
    "$$\\Rightarrow SE=\\frac{\\sigma}{\\sqrt{50}}=0.27$$\n",
    "(a) $$H_{0}= performance\\, has\\, not\\, changed=\\mu\\, is\\, unchanged.$$\n",
    "$$H_{A}= performance\\, has\\, increased=\\mu\\, has\\, decreased.\\\\\\alpha=0.05\\Rightarrow C.I95\\%\\rightarrow[10.97,12.3]$$\n",
    "Clearly, 9.6 is not inside the confidence interval. Hence, the null hypothesis is rejected and the restaurant deserves its given star.\n",
    "\n",
    "(b)$$(b) p(9.6|H_{0})\\approx0$$"
   ]
  },
  {
   "cell_type": "markdown",
   "id": "4b943855",
   "metadata": {},
   "source": [
    "8. .\n",
    "$$x\\sim norm(\\mu=8,\\sigma=\\frac{20}{\\sqrt{400}}=1)$$\n",
    "(a)$$p(x\\leq6.5)=p(Z\\leq6.5-8)=p(Z\\leq -1.5)=0.067 $$\n",
    "(c) The sample distribution follows the population distribution and if the population does not follow the normal distribution, the sample does not follow as well.\n",
    "\n",
    "(d) The bounds are found using qnorm function."
   ]
  },
  {
   "cell_type": "code",
   "execution_count": 15,
   "id": "c1fb9ded",
   "metadata": {},
   "outputs": [
    {
     "data": {
      "text/html": [
       "1.2815515655446"
      ],
      "text/latex": [
       "1.2815515655446"
      ],
      "text/markdown": [
       "1.2815515655446"
      ],
      "text/plain": [
       "[1] 1.281552"
      ]
     },
     "metadata": {},
     "output_type": "display_data"
    }
   ],
   "source": [
    "qnorm(0.9)"
   ]
  },
  {
   "cell_type": "markdown",
   "id": "81d85cfb",
   "metadata": {},
   "source": [
    "$$x=zSE+\\mu$$"
   ]
  },
  {
   "cell_type": "code",
   "execution_count": 16,
   "id": "16607117",
   "metadata": {},
   "outputs": [
    {
     "name": "stdout",
     "output_type": "stream",
     "text": [
      "[1] \"x\"\n"
     ]
    },
    {
     "data": {
      "text/html": [
       "9.2815515655446"
      ],
      "text/latex": [
       "9.2815515655446"
      ],
      "text/markdown": [
       "9.2815515655446"
      ],
      "text/plain": [
       "[1] 9.281552"
      ]
     },
     "metadata": {},
     "output_type": "display_data"
    },
    {
     "name": "stdout",
     "output_type": "stream",
     "text": [
      "[1] \"omega\"\n"
     ]
    },
    {
     "data": {
      "text/html": [
       "1.2815515655446"
      ],
      "text/latex": [
       "1.2815515655446"
      ],
      "text/markdown": [
       "1.2815515655446"
      ],
      "text/plain": [
       "[1] 1.281552"
      ]
     },
     "metadata": {},
     "output_type": "display_data"
    }
   ],
   "source": [
    "x=qnorm(0.9,8,1)\n",
    "omega=8-x\n",
    "print('x')\n",
    "x\n",
    "print('omega')\n",
    "abs(omega)"
   ]
  },
  {
   "cell_type": "markdown",
   "id": "6cebef1e",
   "metadata": {},
   "source": [
    "(e) this is finding the Z for 1-0.975 and converting it to x. "
   ]
  },
  {
   "cell_type": "code",
   "execution_count": 17,
   "id": "897adcda",
   "metadata": {},
   "outputs": [
    {
     "data": {
      "text/html": [
       "6.04003601545995"
      ],
      "text/latex": [
       "6.04003601545995"
      ],
      "text/markdown": [
       "6.04003601545995"
      ],
      "text/plain": [
       "[1] 6.040036"
      ]
     },
     "metadata": {},
     "output_type": "display_data"
    }
   ],
   "source": [
    "T=qnorm(1-0.975,8,1)\n",
    "T"
   ]
  },
  {
   "cell_type": "markdown",
   "id": "4d228dcf",
   "metadata": {},
   "source": [
    "9. There is no significant skewness in all datasets according to QQplots and all sample sizes are more than 30. Hence CLT can be used. Mean of differences is the difference of means and variance of diffrences is the sum of variances and standard error is \n",
    "$$\\sqrt{\\frac{Var(X)}{N}}$$\n",
    "The mean of differences and SE of differences is evaluated after checking the sample size and skewness. Afterwards, H0 and Ha are formulated and the confidence interval is evaluated using qnorm function. Finaly, difference of means is checked if is inside the confidence interval or not\n",
    "$$H_{0}:\\mu=0\\,H_{a}:\\mu\\neq0$$"
   ]
  },
  {
   "cell_type": "markdown",
   "id": "01d2e985",
   "metadata": {},
   "source": [
    "###### X=age,y=sex"
   ]
  },
  {
   "cell_type": "code",
   "execution_count": 38,
   "id": "99b2daa5",
   "metadata": {},
   "outputs": [
    {
     "name": "stdout",
     "output_type": "stream",
     "text": [
      "[1] \"lengh check\"\n"
     ]
    },
    {
     "data": {
      "text/html": [
       "TRUE"
      ],
      "text/latex": [
       "TRUE"
      ],
      "text/markdown": [
       "TRUE"
      ],
      "text/plain": [
       "[1] TRUE"
      ]
     },
     "metadata": {},
     "output_type": "display_data"
    },
    {
     "data": {
      "text/html": [
       "TRUE"
      ],
      "text/latex": [
       "TRUE"
      ],
      "text/markdown": [
       "TRUE"
      ],
      "text/plain": [
       "[1] TRUE"
      ]
     },
     "metadata": {},
     "output_type": "display_data"
    },
    {
     "data": {
      "image/png": "[encoded data removed]",
      "text/plain": [
       "plot without title"
      ]
     },
     "metadata": {
      "image/png": {
       "height": 420,
       "width": 420
      }
     },
     "output_type": "display_data"
    },
    {
     "name": "stdout",
     "output_type": "stream",
     "text": [
      "[1] \"confidence interval\"\n",
      "[1]  3.810353 -3.810353\n",
      "[1] \"signinficance check\"\n"
     ]
    },
    {
     "data": {
      "text/html": [
       "FALSE"
      ],
      "text/latex": [
       "FALSE"
      ],
      "text/markdown": [
       "FALSE"
      ],
      "text/plain": [
       "[1] FALSE"
      ]
     },
     "metadata": {},
     "output_type": "display_data"
    },
    {
     "data": {
      "text/html": [
       "1.22191673212883"
      ],
      "text/latex": [
       "1.22191673212883"
      ],
      "text/markdown": [
       "1.22191673212883"
      ],
      "text/plain": [
       "[1] 1.221917"
      ]
     },
     "metadata": {},
     "output_type": "display_data"
    },
    {
     "data": {
      "image/png": "[encoded data removed]",
      "text/plain": [
       "plot without title"
      ]
     },
     "metadata": {
      "image/png": {
       "height": 420,
       "width": 420
      }
     },
     "output_type": "display_data"
    }
   ],
   "source": [
    "df=read.csv(file = 'metadata.csv')\n",
    "\n",
    "\n",
    "df=subset(df,!(is.na(df$age) | (df$sex=='')))\n",
    "\n",
    "X1=df$age[df$sex=='M']\n",
    "X2=df$age[df$sex=='F']\n",
    "l1=length(X1)\n",
    "l2=length(X2)\n",
    "print('lengh check')\n",
    "l1>30\n",
    "l2>30\n",
    "qqplot((X1-mean(X1))/sd(X1),rnorm(l1))\n",
    "abline(0,1)\n",
    "qqplot((X2-mean(X2))/sd(X2),rnorm(l1))\n",
    "abline(0,1)\n",
    "print('confidence interval')\n",
    "ciu=qnorm(0.975,0,sqrt((var(X1)/l1)+(var(X2)/l2)))\n",
    "cil=qnorm(0.025,0,sqrt((var(X1)/l1)+(var(X2)/l2)))\n",
    "print(c(ciu, cil))\n",
    "print('signinficance check')\n",
    "smean=abs(mean(X1)-mean(X2))\n",
    "smean>ciu\n",
    "smean"
   ]
  },
  {
   "cell_type": "markdown",
   "id": "fd535072",
   "metadata": {},
   "source": [
    "There is no signinficant difference between X1,X2"
   ]
  },
  {
   "cell_type": "markdown",
   "id": "3453b93a",
   "metadata": {},
   "source": [
    "###### X=offset,y=sex"
   ]
  },
  {
   "cell_type": "code",
   "execution_count": 39,
   "id": "2cf9d861",
   "metadata": {},
   "outputs": [
    {
     "name": "stdout",
     "output_type": "stream",
     "text": [
      "[1] \"lengh check\"\n"
     ]
    },
    {
     "data": {
      "text/html": [
       "TRUE"
      ],
      "text/latex": [
       "TRUE"
      ],
      "text/markdown": [
       "TRUE"
      ],
      "text/plain": [
       "[1] TRUE"
      ]
     },
     "metadata": {},
     "output_type": "display_data"
    },
    {
     "data": {
      "text/html": [
       "TRUE"
      ],
      "text/latex": [
       "TRUE"
      ],
      "text/markdown": [
       "TRUE"
      ],
      "text/plain": [
       "[1] TRUE"
      ]
     },
     "metadata": {},
     "output_type": "display_data"
    },
    {
     "data": {
      "image/png": "[encoded data removed]",
      "text/plain": [
       "plot without title"
      ]
     },
     "metadata": {
      "image/png": {
       "height": 420,
       "width": 420
      }
     },
     "output_type": "display_data"
    },
    {
     "name": "stdout",
     "output_type": "stream",
     "text": [
      "[1] \"confidence interval\"\n",
      "[1]  1.952027 -1.952027\n",
      "[1] \"signinficance check\"\n"
     ]
    },
    {
     "data": {
      "text/html": [
       "FALSE"
      ],
      "text/latex": [
       "FALSE"
      ],
      "text/markdown": [
       "FALSE"
      ],
      "text/plain": [
       "[1] FALSE"
      ]
     },
     "metadata": {},
     "output_type": "display_data"
    },
    {
     "data": {
      "text/html": [
       "0.727056962025316"
      ],
      "text/latex": [
       "0.727056962025316"
      ],
      "text/markdown": [
       "0.727056962025316"
      ],
      "text/plain": [
       "[1] 0.727057"
      ]
     },
     "metadata": {},
     "output_type": "display_data"
    },
    {
     "data": {
      "image/png": "[encoded data removed]",
      "text/plain": [
       "plot without title"
      ]
     },
     "metadata": {
      "image/png": {
       "height": 420,
       "width": 420
      }
     },
     "output_type": "display_data"
    }
   ],
   "source": [
    "df=read.csv(file = 'metadata.csv')\n",
    "df=subset(df,!(is.na(df$offset) | (df$sex=='')))\n",
    "X1=df$offset[df$sex=='M']\n",
    "X2=df$offset[df$sex=='F']\n",
    "l1=length(X1)\n",
    "l2=length(X2)\n",
    "print('lengh check')\n",
    "l1>30\n",
    "l2>30\n",
    "qqplot((X1-mean(X1))/sd(X1),rnorm(l1))\n",
    "abline(0,1)\n",
    "qqplot((X2-mean(X2))/sd(X2),rnorm(l1))\n",
    "abline(0,1)\n",
    "print('confidence interval')\n",
    "ciu=qnorm(0.975,0,sqrt((var(X1)/l1)+(var(X2)/l2)))\n",
    "cil=qnorm(0.025,0,sqrt((var(X1)/l1)+(var(X2)/l2)))\n",
    "print(c(ciu, cil))\n",
    "print('signinficance check')\n",
    "smean=abs(mean(X1)-mean(X2))\n",
    "smean>ciu\n",
    "smean"
   ]
  },
  {
   "cell_type": "markdown",
   "id": "19f231ad",
   "metadata": {},
   "source": [
    "There is no signinficant difference between X1,X2"
   ]
  },
  {
   "cell_type": "markdown",
   "id": "6df8f199",
   "metadata": {},
   "source": [
    "###### X=offset ,y=survival"
   ]
  },
  {
   "cell_type": "code",
   "execution_count": 40,
   "id": "56f8cd00",
   "metadata": {},
   "outputs": [
    {
     "name": "stdout",
     "output_type": "stream",
     "text": [
      "[1] \"lengh check\"\n"
     ]
    },
    {
     "data": {
      "text/html": [
       "TRUE"
      ],
      "text/latex": [
       "TRUE"
      ],
      "text/markdown": [
       "TRUE"
      ],
      "text/plain": [
       "[1] TRUE"
      ]
     },
     "metadata": {},
     "output_type": "display_data"
    },
    {
     "data": {
      "text/html": [
       "TRUE"
      ],
      "text/latex": [
       "TRUE"
      ],
      "text/markdown": [
       "TRUE"
      ],
      "text/plain": [
       "[1] TRUE"
      ]
     },
     "metadata": {},
     "output_type": "display_data"
    },
    {
     "data": {
      "image/png": "[encoded data removed]",
      "text/plain": [
       "plot without title"
      ]
     },
     "metadata": {
      "image/png": {
       "height": 420,
       "width": 420
      }
     },
     "output_type": "display_data"
    },
    {
     "name": "stdout",
     "output_type": "stream",
     "text": [
      "[1] \"confidence interval\"\n",
      "[1]  4.062653 -4.062653\n",
      "[1] \"signinficance check\"\n"
     ]
    },
    {
     "data": {
      "text/html": [
       "FALSE"
      ],
      "text/latex": [
       "FALSE"
      ],
      "text/markdown": [
       "FALSE"
      ],
      "text/plain": [
       "[1] FALSE"
      ]
     },
     "metadata": {},
     "output_type": "display_data"
    },
    {
     "data": {
      "text/html": [
       "0.665474974463738"
      ],
      "text/latex": [
       "0.665474974463738"
      ],
      "text/markdown": [
       "0.665474974463738"
      ],
      "text/plain": [
       "[1] 0.665475"
      ]
     },
     "metadata": {},
     "output_type": "display_data"
    },
    {
     "data": {
      "image/png": "[encoded data removed]",
      "text/plain": [
       "plot without title"
      ]
     },
     "metadata": {
      "image/png": {
       "height": 420,
       "width": 420
      }
     },
     "output_type": "display_data"
    }
   ],
   "source": [
    "df=read.csv(file = 'metadata.csv')\n",
    "df=subset(df,!(is.na(df$offset)|(df$survival=='')))\n",
    "X1=df$offset[df$survival==unique(df$survival)[1]]\n",
    "X2=df$offset[df$survival==unique(df$survival)[2]]\n",
    "l1=length(X1)\n",
    "l2=length(X2)\n",
    "print('lengh check')\n",
    "l1>30\n",
    "l2>30\n",
    "\n",
    "qqplot((X1-mean(X1))/sd(X1),rnorm(l1))\n",
    "abline(0,1)\n",
    "qqplot((X2-mean(X2))/sd(X2),rnorm(l1))\n",
    "abline(0,1)\n",
    "print('confidence interval')\n",
    "ciu=qnorm(0.975,0,sqrt((var(X1)/l1)+(var(X2)/l2)))\n",
    "cil=qnorm(0.025,0,sqrt((var(X1)/l1)+(var(X2)/l2)))\n",
    "print(c(ciu, cil))\n",
    "print('signinficance check')\n",
    "smean=abs(mean(X1)-mean(X2))\n",
    "smean>ciu\n",
    "smean"
   ]
  },
  {
   "cell_type": "markdown",
   "id": "eac6dcab",
   "metadata": {},
   "source": [
    "There is no signinficant difference between X1,X2"
   ]
  },
  {
   "cell_type": "markdown",
   "id": "be82fdf8",
   "metadata": {},
   "source": [
    "(b) just like part (a), lenghts are checked. Afterwards, the proportion of X1 and X2 is evaluated and SE is found using\n",
    "$$ SE=\\sqrt{\\frac{p(1-p)}{n}}$$\n",
    "The null hypothesis is both values having the same proportion. The confidence interval is formed using\n",
    "$$ 0.5\\pm Z^{*}SE$$ and P is checked for being in the confidence interval or not."
   ]
  },
  {
   "cell_type": "markdown",
   "id": "d3edc6d1",
   "metadata": {},
   "source": [
    "###### X=sex y=modality"
   ]
  },
  {
   "cell_type": "code",
   "execution_count": 53,
   "id": "2dd6aa59",
   "metadata": {},
   "outputs": [
    {
     "name": "stdout",
     "output_type": "stream",
     "text": [
      "[1] \"lengh check\"\n"
     ]
    },
    {
     "data": {
      "text/html": [
       "TRUE"
      ],
      "text/latex": [
       "TRUE"
      ],
      "text/markdown": [
       "TRUE"
      ],
      "text/plain": [
       "[1] TRUE"
      ]
     },
     "metadata": {},
     "output_type": "display_data"
    },
    {
     "data": {
      "text/html": [
       "TRUE"
      ],
      "text/latex": [
       "TRUE"
      ],
      "text/markdown": [
       "TRUE"
      ],
      "text/plain": [
       "[1] TRUE"
      ]
     },
     "metadata": {},
     "output_type": "display_data"
    },
    {
     "name": "stdout",
     "output_type": "stream",
     "text": [
      "[1] \"confidence interval\"\n",
      "[1] 0.4551342 0.5448658\n",
      "[1] \"check signinficance\"\n"
     ]
    },
    {
     "data": {
      "text/html": [
       "TRUE"
      ],
      "text/latex": [
       "TRUE"
      ],
      "text/markdown": [
       "TRUE"
      ],
      "text/plain": [
       "[1] TRUE"
      ]
     },
     "metadata": {},
     "output_type": "display_data"
    },
    {
     "data": {
      "text/html": [
       "0.887537993920973"
      ],
      "text/latex": [
       "0.887537993920973"
      ],
      "text/markdown": [
       "0.887537993920973"
      ],
      "text/plain": [
       "[1] 0.887538"
      ]
     },
     "metadata": {},
     "output_type": "display_data"
    }
   ],
   "source": [
    "df=read.csv(file = 'metadata.csv')\n",
    "df=subset(df,!(df$sex==''))\n",
    "X1=df$sex[df$modality==unique(df$modality)[1]]\n",
    "X2=df$sex[df$modality==unique(df$modality)[2]]\n",
    "X1[X1=='M']=0\n",
    "X1[X1=='F']=1\n",
    "X2[X2=='M']=0\n",
    "X2[X2=='F']=1\n",
    "X1=type.convert(X1)\n",
    "X2=type.convert(X2)\n",
    "l1=length(X1)\n",
    "l2=length(X2)\n",
    "print('lengh check')\n",
    "l1>30\n",
    "l2>30\n",
    "print('confidence interval')\n",
    "p=l1/length(df$sex)\n",
    "SE=sqrt(p*(1-p)/length(df$sex))\n",
    "zstar=qnorm(0.995)\n",
    "ciu=0.5+zstar*SE\n",
    "cil=0.5-zstar*SE\n",
    "print(c(cil,ciu))\n",
    "print('check signinficance')\n",
    "p>ciu|p<cil\n",
    "p"
   ]
  },
  {
   "cell_type": "markdown",
   "id": "afe609bc",
   "metadata": {},
   "source": [
    "There is a significant difference"
   ]
  },
  {
   "cell_type": "markdown",
   "id": "d2e51d7b",
   "metadata": {},
   "source": [
    "###### X= survival y= modality"
   ]
  },
  {
   "cell_type": "code",
   "execution_count": 57,
   "id": "69e83107",
   "metadata": {},
   "outputs": [
    {
     "name": "stdout",
     "output_type": "stream",
     "text": [
      "[1] \"lengh check\"\n"
     ]
    },
    {
     "data": {
      "text/html": [
       "TRUE"
      ],
      "text/latex": [
       "TRUE"
      ],
      "text/markdown": [
       "TRUE"
      ],
      "text/plain": [
       "[1] TRUE"
      ]
     },
     "metadata": {},
     "output_type": "display_data"
    },
    {
     "data": {
      "text/html": [
       "TRUE"
      ],
      "text/latex": [
       "TRUE"
      ],
      "text/markdown": [
       "TRUE"
      ],
      "text/plain": [
       "[1] TRUE"
      ]
     },
     "metadata": {},
     "output_type": "display_data"
    },
    {
     "name": "stdout",
     "output_type": "stream",
     "text": [
      "[1] \"confidence interval\"\n",
      "[1] 0.4430502 0.5569498\n",
      "[1] \"check signinficance\"\n"
     ]
    },
    {
     "data": {
      "text/html": [
       "TRUE"
      ],
      "text/latex": [
       "TRUE"
      ],
      "text/markdown": [
       "TRUE"
      ],
      "text/plain": [
       "[1] TRUE"
      ]
     },
     "metadata": {},
     "output_type": "display_data"
    },
    {
     "data": {
      "text/html": [
       "0.939655172413793"
      ],
      "text/latex": [
       "0.939655172413793"
      ],
      "text/markdown": [
       "0.939655172413793"
      ],
      "text/plain": [
       "[1] 0.9396552"
      ]
     },
     "metadata": {},
     "output_type": "display_data"
    }
   ],
   "source": [
    "df=read.csv(file = 'metadata.csv')\n",
    "df=subset(df,!(df$survival==''))\n",
    "X1=df$survival[df$modality==unique(df$modality)[1]]\n",
    "X2=df$survival[df$modality==unique(df$modality)[2]]\n",
    "X1[X1=='Y']=0\n",
    "X1[X1=='N']=1\n",
    "X2[X2=='Y']=0\n",
    "X2[X2=='N']=1\n",
    "X1=type.convert(X1)\n",
    "X2=type.convert(X2)\n",
    "print('lengh check')\n",
    "l1=length(X1)\n",
    "l2=length(X2)\n",
    "l1>30\n",
    "l2>30\n",
    "\n",
    "print('confidence interval')\n",
    "p=l1/length(df$survival)\n",
    "SE=sqrt(p*(1-p)/length(df$survival))\n",
    "zstar=qnorm(0.995)\n",
    "ciu=0.5+zstar*SE\n",
    "cil=0.5-zstar*SE\n",
    "print(c(cil,ciu))\n",
    "print('check signinficance')\n",
    "p>ciu|p<cil\n",
    "p"
   ]
  },
  {
   "cell_type": "markdown",
   "id": "a7267f8e",
   "metadata": {},
   "source": [
    "there is a signinficant difference"
   ]
  },
  {
   "cell_type": "markdown",
   "id": "cbf68b94",
   "metadata": {},
   "source": [
    "10. \n",
    "\n",
    "\n",
    "\n",
    "    (a) The power curve plots the power of the test versus the difference between the mean and the target. The power curve represents every combination of power and difference for each sample size when the significance level and the standard deviation are held constant. Each symbol on the power curve represents a calculated value based on the values that you enter. For example, if you enter a sample size and a power value, Minitab calculates the corresponding difference and displays the calculated value on the graph. \n",
    "       (b) The variables are defined, SE and criritcal value are evaluated from n and alpha and in a for loop on means, beta is evaluated from dnorm of critical value and the changing mean and SE. Finally the curve is plotted"
   ]
  },
  {
   "cell_type": "code",
   "execution_count": 73,
   "id": "beafe77a",
   "metadata": {},
   "outputs": [
    {
     "data": {
      "image/png": "[encoded data removed]",
      "text/plain": [
       "plot without title"
      ]
     },
     "metadata": {
      "image/png": {
       "height": 420,
       "width": 420
      }
     },
     "output_type": "display_data"
    }
   ],
   "source": [
    "sigma = 0.7       \n",
    "n = 50           \n",
    "mu0 = 11.5       \n",
    "alpha = 0.05\n",
    "SE=sigma/sqrt(50)\n",
    "critical_value=qnorm(1-alpha,mu0,SE)\n",
    "power=c()\n",
    "mus=seq(mu0-0.5,mu0+0.5,0.01)\n",
    "for (mu in mus){\n",
    "    power=c(power,1-dnorm(critical_value,mu,SE))\n",
    "}\n",
    "plot(mus,power,type='l',col='blue',lwd = 3,xlab=expression(mu))\n",
    "desired_power=0.8\n",
    "\n",
    "\n",
    "\n",
    "abline(h=desired_power,col='cyan',lwd=3)\n",
    "\n"
   ]
  },
  {
   "cell_type": "markdown",
   "id": "690e2a97",
   "metadata": {},
   "source": [
    "(C)The chosen mua is 9.8 and alpha is 0.05 and beta is almost zero"
   ]
  },
  {
   "cell_type": "code",
   "execution_count": 101,
   "id": "f48067f3",
   "metadata": {},
   "outputs": [
    {
     "data": {
      "image/png": "[encoded data removed]",
      "text/plain": [
       "plot without title"
      ]
     },
     "metadata": {
      "image/png": {
       "height": 420,
       "width": 420
      }
     },
     "output_type": "display_data"
    }
   ],
   "source": [
    "plot(seq(9,15,0.01),dnorm(seq(9,15,0.01),9.8,SE),type='l',col='red')\n",
    "lines(seq(9,15,0.01),dnorm(seq(9,15,0.01),11.5,SE),type='l',col='blue')\n",
    "abline(v=9.6,lwd=5,col='pink')"
   ]
  },
  {
   "cell_type": "markdown",
   "id": "ee2c0ed1",
   "metadata": {},
   "source": [
    "11. \n",
    "    a)The purpose of a what-if analysis is to determine the effect of these outcomes in a statistical model in conjunction with risk assessment. Different methods of sensitivity analysis are available, including scenario-management tools, brainstorming techniques, and modeling and simulation techniques. What-if analysis is frequently used by researchers, analysts, scientists, and investors.\n",
    "\n",
    "    It is also known as sensitivity analysis.\n",
    "\n",
    "    One of the strengths of this method is that it can be applied to any system at any stage of its design, development, or operation.\n",
    "   \n",
    "   \n",
    "     b)    Strength (effect size): A small association does not mean that there is not a causal effect, though the larger the association, the more likely that it is causal.\n",
    "     \n",
    "     \n",
    "    Consistency (reproducibility): Consistent findings observed by different persons in different places with different samples strengthens the likelihood of an effect.\n",
    "    \n",
    "    \n",
    "    Specificity: Causation is likely if there is a very specific population at a specific site and disease with no other likely explanation. The more specific an association between a factor and an effect is, the bigger the probability of a causal relationship.\n",
    "    \n",
    "    \n",
    "    Temporality: The effect has to occur after the cause (and if there is an expected delay between the cause and expected effect, then the effect must occur after that delay).\n",
    "    \n",
    "    \n",
    "    Biological gradient (dose-response relationship): Greater exposure should generally lead to greater incidence of the effect. However, in some cases, the mere presence of the factor can trigger the effect. In other cases, an inverse proportion is observed: greater exposure leads to lower incidence.\n",
    "    \n",
    "    \n",
    "    Plausibility: A plausible mechanism between cause and effect is helpful (but Hill noted that knowledge of the mechanism is limited by current knowledge).\n",
    "    \n",
    "    \n",
    "    Coherence: Coherence between epidemiological and laboratory findings increases the likelihood of an effect. However, Hill noted that \"... lack of such laboratory evidence cannot nullify the epidemiological effect on associations\".\n",
    "    \n",
    "    \n",
    "    Experiment: \"Occasionally it is possible to appeal to experimental evidence\".\n",
    "    \n",
    "    \n",
    "    Analogy: The use of analogies or similarities between the observed association and any other associations.\n",
    "    \n",
    "    \n",
    "    \n"
   ]
  }
 ],
 "metadata": {
  "kernelspec": {
   "display_name": "R",
   "language": "R",
   "name": "ir"
  },
  "language_info": {
   "codemirror_mode": "r",
   "file_extension": ".r",
   "mimetype": "text/x-r-source",
   "name": "R",
   "pygments_lexer": "r",
   "version": "4.0.4"
  }
 },
 "nbformat": 4,
 "nbformat_minor": 5
}
